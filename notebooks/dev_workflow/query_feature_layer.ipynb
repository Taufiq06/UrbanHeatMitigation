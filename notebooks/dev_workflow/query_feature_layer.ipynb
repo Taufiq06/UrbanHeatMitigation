{
 "cells": [
  {
   "cell_type": "markdown",
   "metadata": {},
   "source": [
    "## Core Workflow: Query feature layers from ArcGIS online \n",
    "Purpose: Load feature layers from ArcGIS online into a pandas dataframe and run meaningful queries\n",
    "<br>\n",
    "\n"
   ]
  },
  {
   "cell_type": "markdown",
   "metadata": {},
   "source": [
    "### Display Feature Layer"
   ]
  },
  {
   "cell_type": "code",
   "execution_count": 1,
   "metadata": {},
   "outputs": [],
   "source": [
    "from IPython.display import display\n",
    "import arcgis\n",
    "from arcgis.gis import GIS\n",
    "\n",
    "import pandas as pd\n",
    "import matplotlib.pyplot as plt\n",
    "# import seaborn as sns\n",
    "import os\n",
    "import numpy as np\n",
    "\n",
    "import warnings\n",
    "warnings.filterwarnings('ignore')\n"
   ]
  },
  {
   "cell_type": "code",
   "execution_count": 2,
   "metadata": {},
   "outputs": [],
   "source": [
    "# connect to your GIS without signing in\n",
    "gis = GIS(\"https://www.arcgis.com\")"
   ]
  },
  {
   "cell_type": "code",
   "execution_count": 3,
   "metadata": {
    "scrolled": true
   },
   "outputs": [
    {
     "data": {
      "text/plain": [
       "[<Item title:\"pred_la_2014_sub\" type:Feature Layer Collection owner:trashid_wri>]"
      ]
     },
     "execution_count": 3,
     "metadata": {},
     "output_type": "execute_result"
    }
   ],
   "source": [
    "webmap_search = gis.content.search(\"pred_LA_2014_sub\", item_type=\"Feature Layer\", max_items = 100,outside_org=True)\n",
    "webmap_search"
   ]
  },
  {
   "cell_type": "code",
   "execution_count": 4,
   "metadata": {},
   "outputs": [
    {
     "data": {
      "text/html": [
       "<div class=\"item_container\" style=\"height: auto; overflow: hidden; border: 1px solid #cfcfcf; border-radius: 2px; background: #f6fafa; line-height: 1.21429em; padding: 10px;\">\n",
       "                    <div class=\"item_left\" style=\"width: 210px; float: left;\">\n",
       "                       <a href='https://www.arcgis.com/home/item.html?id=96410cafc21744dcb988cb513255605b' target='_blank'>\n",
       "                        <img src='https://www.arcgis.com/sharing/rest//content/items/96410cafc21744dcb988cb513255605b/info/thumbnail/ago_downloaded.png' class=\"itemThumbnail\">\n",
       "                       </a>\n",
       "                    </div>\n",
       "\n",
       "                    <div class=\"item_right\"     style=\"float: none; width: auto; overflow: hidden;\">\n",
       "                        <a href='https://www.arcgis.com/home/item.html?id=96410cafc21744dcb988cb513255605b' target='_blank'><b>pred_la_2014_sub</b>\n",
       "                        </a>\n",
       "                        <br/><img src='https://www.arcgis.com/home/js/jsapi/esri/css/images/item_type_icons/featureshosted16.png' style=\"vertical-align:middle;\">Feature Layer Collection by trashid_wri\n",
       "                        <br/>Last Modified: October 16, 2019\n",
       "                        <br/>0 comments, 40 views\n",
       "                    </div>\n",
       "                </div>\n",
       "                "
      ],
      "text/plain": [
       "<Item title:\"pred_la_2014_sub\" type:Feature Layer Collection owner:trashid_wri>"
      ]
     },
     "execution_count": 4,
     "metadata": {},
     "output_type": "execute_result"
    }
   ],
   "source": [
    "LA_map_item = webmap_search[0]\n",
    "LA_map_item"
   ]
  },
  {
   "cell_type": "code",
   "execution_count": 5,
   "metadata": {},
   "outputs": [],
   "source": [
    "LA_layer = LA_map_item.layers[0]"
   ]
  },
  {
   "cell_type": "code",
   "execution_count": 6,
   "metadata": {},
   "outputs": [
    {
     "data": {
      "text/plain": [
       "arcgis.features.layer.FeatureLayer"
      ]
     },
     "execution_count": 6,
     "metadata": {},
     "output_type": "execute_result"
    }
   ],
   "source": [
    "type(LA_layer)"
   ]
  },
  {
   "cell_type": "markdown",
   "metadata": {},
   "source": [
    "## Query the features\n",
    "#### Let us query the features on this layer"
   ]
  },
  {
   "cell_type": "code",
   "execution_count": 7,
   "metadata": {},
   "outputs": [
    {
     "name": "stdout",
     "output_type": "stream",
     "text": [
      "field_1\n",
      "albedo\n",
      "total_pixe\n",
      "long\n",
      "lat\n",
      "ObjectId\n",
      "Shape__Area\n",
      "Shape__Length\n"
     ]
    }
   ],
   "source": [
    "#query the fields in eq_fl layer\n",
    "for field in LA_layer.properties.fields:\n",
    "    print(field['name'])"
   ]
  },
  {
   "cell_type": "code",
   "execution_count": 8,
   "metadata": {
    "scrolled": true
   },
   "outputs": [],
   "source": [
    "# query this feature collection to get a data as a feature set\n",
    "# in this case, find all roofs with low albedo \n",
    "LA_ft_set = LA_layer.query(where='albedo<=0.3',out_fields='albedo') "
   ]
  },
  {
   "cell_type": "code",
   "execution_count": 9,
   "metadata": {},
   "outputs": [
    {
     "data": {
      "text/plain": [
       "<FeatureSet> 18965 features"
      ]
     },
     "execution_count": 9,
     "metadata": {},
     "output_type": "execute_result"
    }
   ],
   "source": [
    "LA_ft_set"
   ]
  },
  {
   "cell_type": "markdown",
   "metadata": {},
   "source": [
    "### The `sdf` property of `FeatureSet` class is a powerful way to visualize all the features as a pandas dataframe table.\n"
   ]
  },
  {
   "cell_type": "code",
   "execution_count": 10,
   "metadata": {
    "scrolled": true
   },
   "outputs": [
    {
     "data": {
      "text/html": [
       "<div>\n",
       "<style scoped>\n",
       "    .dataframe tbody tr th:only-of-type {\n",
       "        vertical-align: middle;\n",
       "    }\n",
       "\n",
       "    .dataframe tbody tr th {\n",
       "        vertical-align: top;\n",
       "    }\n",
       "\n",
       "    .dataframe thead th {\n",
       "        text-align: right;\n",
       "    }\n",
       "</style>\n",
       "<table border=\"1\" class=\"dataframe\">\n",
       "  <thead>\n",
       "    <tr style=\"text-align: right;\">\n",
       "      <th></th>\n",
       "      <th>ObjectId</th>\n",
       "      <th>SHAPE</th>\n",
       "      <th>albedo</th>\n",
       "    </tr>\n",
       "  </thead>\n",
       "  <tbody>\n",
       "    <tr>\n",
       "      <th>0</th>\n",
       "      <td>2</td>\n",
       "      <td>{\"rings\": [[[-13162362.8543938, 4032050.706034...</td>\n",
       "      <td>0.141204</td>\n",
       "    </tr>\n",
       "    <tr>\n",
       "      <th>1</th>\n",
       "      <td>3</td>\n",
       "      <td>{\"rings\": [[[-13165041.2341534, 4037012.796113...</td>\n",
       "      <td>0.180229</td>\n",
       "    </tr>\n",
       "    <tr>\n",
       "      <th>2</th>\n",
       "      <td>4</td>\n",
       "      <td>{\"rings\": [[[-13160623.4889514, 4034572.437788...</td>\n",
       "      <td>0.234217</td>\n",
       "    </tr>\n",
       "    <tr>\n",
       "      <th>3</th>\n",
       "      <td>5</td>\n",
       "      <td>{\"rings\": [[[-13165041.2341534, 4037012.796113...</td>\n",
       "      <td>0.180229</td>\n",
       "    </tr>\n",
       "    <tr>\n",
       "      <th>4</th>\n",
       "      <td>6</td>\n",
       "      <td>{\"rings\": [[[-13162838.9060994, 4034200.466273...</td>\n",
       "      <td>0.151054</td>\n",
       "    </tr>\n",
       "  </tbody>\n",
       "</table>\n",
       "</div>"
      ],
      "text/plain": [
       "   ObjectId                                              SHAPE    albedo\n",
       "0         2  {\"rings\": [[[-13162362.8543938, 4032050.706034...  0.141204\n",
       "1         3  {\"rings\": [[[-13165041.2341534, 4037012.796113...  0.180229\n",
       "2         4  {\"rings\": [[[-13160623.4889514, 4034572.437788...  0.234217\n",
       "3         5  {\"rings\": [[[-13165041.2341534, 4037012.796113...  0.180229\n",
       "4         6  {\"rings\": [[[-13162838.9060994, 4034200.466273...  0.151054"
      ]
     },
     "execution_count": 10,
     "metadata": {},
     "output_type": "execute_result"
    }
   ],
   "source": [
    "# Load the feature set into a pandas dataframe\n",
    "df = LA_ft_set.sdf\n",
    "df.head()"
   ]
  },
  {
   "cell_type": "code",
   "execution_count": 11,
   "metadata": {
    "scrolled": true
   },
   "outputs": [
    {
     "name": "stdout",
     "output_type": "stream",
     "text": [
      "number of small roofs =  13477\n",
      "number of large roofs =  562\n"
     ]
    }
   ],
   "source": [
    "# find the count of small and large roofs \n",
    "cnt_small_roofs = LA_layer.query(where='Shape__Area<=500', return_count_only=True)\n",
    "cnt_large_roofs = LA_layer.query(where='Shape__Area>5000',return_count_only=True)\n",
    "\n",
    "print('number of small roofs = ', cnt_small_roofs)\n",
    "print('number of large roofs = ', cnt_large_roofs)"
   ]
  },
  {
   "cell_type": "code",
   "execution_count": 12,
   "metadata": {
    "scrolled": true
   },
   "outputs": [
    {
     "data": {
      "text/html": [
       "<div>\n",
       "<style scoped>\n",
       "    .dataframe tbody tr th:only-of-type {\n",
       "        vertical-align: middle;\n",
       "    }\n",
       "\n",
       "    .dataframe tbody tr th {\n",
       "        vertical-align: top;\n",
       "    }\n",
       "\n",
       "    .dataframe thead th {\n",
       "        text-align: right;\n",
       "    }\n",
       "</style>\n",
       "<table border=\"1\" class=\"dataframe\">\n",
       "  <thead>\n",
       "    <tr style=\"text-align: right;\">\n",
       "      <th></th>\n",
       "      <th>ObjectId</th>\n",
       "      <th>SHAPE</th>\n",
       "      <th>albedo</th>\n",
       "    </tr>\n",
       "  </thead>\n",
       "  <tbody>\n",
       "    <tr>\n",
       "      <th>0</th>\n",
       "      <td>1</td>\n",
       "      <td>{\"rings\": [[[-13162097.3810506, 4037246.899478...</td>\n",
       "      <td>0.553825</td>\n",
       "    </tr>\n",
       "    <tr>\n",
       "      <th>1</th>\n",
       "      <td>2</td>\n",
       "      <td>{\"rings\": [[[-13162362.8543938, 4032050.706034...</td>\n",
       "      <td>0.141204</td>\n",
       "    </tr>\n",
       "    <tr>\n",
       "      <th>2</th>\n",
       "      <td>3</td>\n",
       "      <td>{\"rings\": [[[-13165041.2341534, 4037012.796113...</td>\n",
       "      <td>0.180229</td>\n",
       "    </tr>\n",
       "    <tr>\n",
       "      <th>3</th>\n",
       "      <td>5</td>\n",
       "      <td>{\"rings\": [[[-13165041.2341534, 4037012.796113...</td>\n",
       "      <td>0.180229</td>\n",
       "    </tr>\n",
       "    <tr>\n",
       "      <th>4</th>\n",
       "      <td>6</td>\n",
       "      <td>{\"rings\": [[[-13162838.9060994, 4034200.466273...</td>\n",
       "      <td>0.151054</td>\n",
       "    </tr>\n",
       "  </tbody>\n",
       "</table>\n",
       "</div>"
      ],
      "text/plain": [
       "   ObjectId                                              SHAPE    albedo\n",
       "0         1  {\"rings\": [[[-13162097.3810506, 4037246.899478...  0.553825\n",
       "1         2  {\"rings\": [[[-13162362.8543938, 4032050.706034...  0.141204\n",
       "2         3  {\"rings\": [[[-13165041.2341534, 4037012.796113...  0.180229\n",
       "3         5  {\"rings\": [[[-13165041.2341534, 4037012.796113...  0.180229\n",
       "4         6  {\"rings\": [[[-13162838.9060994, 4034200.466273...  0.151054"
      ]
     },
     "execution_count": 12,
     "metadata": {},
     "output_type": "execute_result"
    }
   ],
   "source": [
    "# find small roofs and store them as a pandas df\n",
    "\n",
    "small_roofs = LA_layer.query(where='Shape__Area<500',out_fields='albedo')\n",
    "\n",
    "sm_rf_df = small_roofs.sdf\n",
    "sm_rf_df.head()"
   ]
  },
  {
   "cell_type": "markdown",
   "metadata": {},
   "source": [
    "### Create a histogram for small roofs"
   ]
  },
  {
   "cell_type": "code",
   "execution_count": 19,
   "metadata": {
    "scrolled": false
   },
   "outputs": [
    {
     "data": {
      "image/png": "[encoded data removed]",
      "text/plain": [
       "<Figure size 864x864 with 1 Axes>"
      ]
     },
     "metadata": {},
     "output_type": "display_data"
    }
   ],
   "source": [
    "sm_rf_df['ScoredLabels']=sm_rf_df['albedo']\n",
    "x = sm_rf_df.ScoredLabels.dropna()\n",
    "plt.figure(figsize=(12,12))\n",
    "N, bins, patches = plt.hist(x,bins=[0, 0.05, 0.1, 0.15, 0.2, 0.25, 0.3, 0.35, 0.4, 0.45, 0.5, 0.55, 0.6, 0.65, 0.7, 0.75, \n",
    "                                0.8, 0.85,0.9,0.95,1])\n",
    "\n",
    "cmap = plt.get_cmap('jet')\n",
    "low = cmap(0.5)\n",
    "medium =cmap(0.2)\n",
    "high = cmap(0.7)\n",
    "\n",
    "\n",
    "for i in range(0,1):\n",
    "    patches[i].set_facecolor('#d7191c')\n",
    "for i in range(1,2):\n",
    "    patches[i].set_facecolor('#e9603d')\n",
    "for i in range(2,3):\n",
    "    patches[i].set_facecolor('#fca75d')\n",
    "for i in range(3,4):\n",
    "    patches[i].set_facecolor('#fed189')\n",
    "for i in range(4,5):\n",
    "    patches[i].set_facecolor('#fff8b6')\n",
    "for i in range(5,6):\n",
    "    patches[i].set_facecolor('#eef8c8')\n",
    "for i in range(6,7):\n",
    "    patches[i].set_facecolor('#d9eed3')\n",
    "for i in range(7,8):\n",
    "    patches[i].set_facecolor('#c3e4dd')\n",
    "for i in range(8,9):\n",
    "    patches[i].set_facecolor('#addae8')\n",
    "for i in range(9,10):\n",
    "    patches[i].set_facecolor('#85b9d2')\n",
    "for i in range(10,11):\n",
    "    patches[i].set_facecolor('#5a96b8')\n",
    "for i in range(11,12):\n",
    "    patches[i].set_facecolor('#2f729d')\n",
    "for i in range(12,18):\n",
    "    patches[i].set_facecolor('#054e83')\n",
    "\n",
    "plt.grid()    \n",
    "plt.axis([0, 1, 0, 5000])\n",
    "plt.xlabel(\"Predicted Albedo\", fontsize=16)  \n",
    "plt.ylabel(\"Count of Roofs\", fontsize=16)\n",
    "plt.axvline(x.mean(), color='#544f50', linestyle='dashed', linewidth=1)\n",
    "plt.xticks(np.arange(0, 1.01, 0.05),fontsize=10)  \n",
    "plt.yticks(np.arange(0, 5500, 500),fontsize=14)\n",
    "plt.text(0.2, 4800, \"Mean: \" + str(round(sm_rf_df.albedo.mean(),4)), style='italic',fontsize=14)\n",
    "ax = plt.subplot(111)  \n",
    "ax.spines[\"top\"].set_visible(False)  \n",
    "ax.spines[\"right\"].set_visible(False)\n",
    "\n",
    "plt.show()\n"
   ]
  },
  {
   "cell_type": "markdown",
   "metadata": {},
   "source": [
    "-----------------------------------------------------"
   ]
  }
 ],
 "metadata": {
  "kernelspec": {
   "display_name": "Python 3.5",
   "language": "python",
   "name": "python3"
  },
  "language_info": {
   "codemirror_mode": {
    "name": "ipython",
    "version": 3
   },
   "file_extension": ".py",
   "mimetype": "text/x-python",
   "name": "python",
   "nbconvert_exporter": "python",
   "pygments_lexer": "ipython3",
   "version": "3.5.5"
  }
 },
 "nbformat": 4,
 "nbformat_minor": 2
}
