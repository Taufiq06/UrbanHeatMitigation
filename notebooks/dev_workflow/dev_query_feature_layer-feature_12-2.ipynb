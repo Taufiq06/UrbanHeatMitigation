{
 "cells": [
  {
   "cell_type": "markdown",
   "metadata": {},
   "source": [
    "### Display Feature Layer"
   ]
  },
  {
   "cell_type": "code",
   "execution_count": 16,
   "metadata": {},
   "outputs": [],
   "source": [
    "from IPython.display import display\n",
    "import arcgis\n",
    "from arcgis import *\n",
    "from arcgis.geometry import Geometry\n",
    "\n",
    "import pandas as pd\n",
    "import matplotlib.pyplot as plt\n",
    "import os\n",
    "import numpy as np\n",
    "from numpy import mean\n",
    "import statistics\n",
    "import fiona\n",
    "import json\n",
    "import shapely\n",
    "from shapely.geometry import shape, Point\n",
    "from shapely.geometry import mapping, Polygon\n",
    "\n",
    "import pyproj\n",
    "from shapely.ops import transform\n",
    "from functools import partial\n",
    "\n",
    "import warnings\n",
    "warnings.filterwarnings('ignore')\n"
   ]
  },
  {
   "cell_type": "markdown",
   "metadata": {},
   "source": [
    "### Input parameters"
   ]
  },
  {
   "cell_type": "code",
   "execution_count": 89,
   "metadata": {},
   "outputs": [],
   "source": [
    "# Set which year to query\n",
    "query_year = '2012'\n",
    "\n",
    "# pass input shape location\n",
    "inp_shp = 'test_LA_4.geojson'"
   ]
  },
  {
   "cell_type": "markdown",
   "metadata": {},
   "source": [
    "### Make connection to ArcGIS online"
   ]
  },
  {
   "cell_type": "code",
   "execution_count": 90,
   "metadata": {},
   "outputs": [],
   "source": [
    "# connect to your GIS without signing in\n",
    "gis = GIS(\"https://www.arcgis.com\")"
   ]
  },
  {
   "cell_type": "code",
   "execution_count": 91,
   "metadata": {
    "scrolled": true
   },
   "outputs": [],
   "source": [
    "webmap_search = gis.content.search(\"prediction_LA_cnty_LA_cnty_2009\", item_type=\"Feature Layer\", max_items = 100,outside_org=True)\n",
    "LA_map_item = webmap_search[0]\n",
    "LA_layer_2009 = LA_map_item.layers[0]\n",
    "\n",
    "webmap_search = gis.content.search(\"prediction_LA_cnty_LA_cnty_2012\", item_type=\"Feature Layer\", max_items = 100,outside_org=True)\n",
    "LA_map_item = webmap_search[0]\n",
    "LA_layer_2012 = LA_map_item.layers[0]\n",
    "\n",
    "webmap_search = gis.content.search(\"LA_cnty_2014\", item_type=\"Feature Layer\", max_items = 100,outside_org=True)\n",
    "LA_map_item = webmap_search[0]\n",
    "LA_layer_2014 = LA_map_item.layers[0]\n",
    "\n",
    "webmap_search = gis.content.search(\"LA_cnty_2016\", item_type=\"Feature Layer\", max_items = 100,outside_org=True)\n",
    "LA_map_item = webmap_search[0]\n",
    "LA_layer_2016 = LA_map_item.layers[0]\n",
    "\n",
    "webmap_search = gis.content.search(\"LA_cnty_2018\", item_type=\"Feature Layer\", max_items = 100,outside_org=True)\n",
    "LA_map_item = webmap_search[0]\n",
    "LA_layer_2018 = LA_map_item.layers[0]"
   ]
  },
  {
   "cell_type": "code",
   "execution_count": 92,
   "metadata": {},
   "outputs": [],
   "source": [
    "if query_year == '2009':\n",
    "    LA_layer = LA_layer_2009\n",
    "elif query_year == '2012':\n",
    "    LA_layer = LA_layer_2012\n",
    "elif query_year == '2014':\n",
    "    LA_layer = LA_layer_2014\n",
    "elif query_year == '2016':\n",
    "    LA_layer = LA_layer_2016\n",
    "elif query_year == '2018':\n",
    "    LA_layer = LA_layer_2018"
   ]
  },
  {
   "cell_type": "code",
   "execution_count": 93,
   "metadata": {
    "scrolled": true
   },
   "outputs": [
    {
     "data": {
      "text/plain": [
       "{'type': 'Polygon',\n",
       " 'coordinates': [[[-118.2853317260742, 34.049814864716275],\n",
       "   [-118.29082489013672, 34.02961576832659],\n",
       "   [-118.27331542968749, 34.017095604460124],\n",
       "   [-118.23623657226562, 34.01738017414994],\n",
       "   [-118.20190429687501, 34.037582183607775],\n",
       "   [-118.21495056152342, 34.07029354225064],\n",
       "   [-118.27056884765625, 34.07797177050299],\n",
       "   [-118.2853317260742, 34.049814864716275]]]}"
      ]
     },
     "execution_count": 93,
     "metadata": {},
     "output_type": "execute_result"
    }
   ],
   "source": [
    "with open(inp_shp) as f:\n",
    "    js = json.load(f)\n",
    "\n",
    "arg_list = js['features']\n",
    "geom =  arg_list[0]['geometry']\n",
    "geom = Geometry(geom)\n",
    "geom"
   ]
  },
  {
   "cell_type": "code",
   "execution_count": 95,
   "metadata": {},
   "outputs": [
    {
     "name": "stdout",
     "output_type": "stream",
     "text": [
      "Total area of the given geometry in square miles=  15.797523940902352\n"
     ]
    }
   ],
   "source": [
    "s = shape(arg_list[0]['geometry'])\n",
    "\n",
    "proj = partial(pyproj.transform, pyproj.Proj(init='epsg:4326'),\n",
    "               pyproj.Proj(init='epsg:32611'))\n",
    "\n",
    "s_new = transform(proj, s)\n",
    "\n",
    "projected_area = transform(proj, s).area\n",
    "projected_area_sqm = projected_area*3.86102e-7 # convert to square miles\n",
    "print('Total area of the given geometry in square miles= ',projected_area_sqm)"
   ]
  },
  {
   "cell_type": "code",
   "execution_count": 96,
   "metadata": {},
   "outputs": [],
   "source": [
    "aoi = arcgis.geometry.filters.intersects(geom)"
   ]
  },
  {
   "cell_type": "code",
   "execution_count": 97,
   "metadata": {
    "scrolled": true
   },
   "outputs": [],
   "source": [
    "# query a feature layer for features that meet filter criteria\n",
    "queried_layer = LA_layer.query(geometry_filter=aoi)"
   ]
  },
  {
   "cell_type": "code",
   "execution_count": 98,
   "metadata": {},
   "outputs": [
    {
     "data": {
      "text/html": [
       "<div>\n",
       "<style scoped>\n",
       "    .dataframe tbody tr th:only-of-type {\n",
       "        vertical-align: middle;\n",
       "    }\n",
       "\n",
       "    .dataframe tbody tr th {\n",
       "        vertical-align: top;\n",
       "    }\n",
       "\n",
       "    .dataframe thead th {\n",
       "        text-align: right;\n",
       "    }\n",
       "</style>\n",
       "<table border=\"1\" class=\"dataframe\">\n",
       "  <thead>\n",
       "    <tr style=\"text-align: right;\">\n",
       "      <th></th>\n",
       "      <th>FID</th>\n",
       "      <th>Scored_Lab</th>\n",
       "      <th>roof_no</th>\n",
       "      <th>bld_id</th>\n",
       "      <th>shp_area</th>\n",
       "      <th>Shape__Area</th>\n",
       "      <th>Shape__Length</th>\n",
       "      <th>SHAPE</th>\n",
       "    </tr>\n",
       "  </thead>\n",
       "  <tbody>\n",
       "    <tr>\n",
       "      <th>0</th>\n",
       "      <td>572084</td>\n",
       "      <td>0.081589</td>\n",
       "      <td>582892</td>\n",
       "      <td>484080847076</td>\n",
       "      <td>156.409978</td>\n",
       "      <td>228.523438</td>\n",
       "      <td>75.348608</td>\n",
       "      <td>{'rings': [[[-13164213.8394911, 4037871.723713...</td>\n",
       "    </tr>\n",
       "    <tr>\n",
       "      <th>1</th>\n",
       "      <td>572114</td>\n",
       "      <td>0.180121</td>\n",
       "      <td>582893</td>\n",
       "      <td>483886847119</td>\n",
       "      <td>56.107847</td>\n",
       "      <td>81.972656</td>\n",
       "      <td>38.125650</td>\n",
       "      <td>{'rings': [[[-13164295.1714371, 4037893.656464...</td>\n",
       "    </tr>\n",
       "    <tr>\n",
       "      <th>2</th>\n",
       "      <td>572122</td>\n",
       "      <td>0.094056</td>\n",
       "      <td>582894</td>\n",
       "      <td>483544846690</td>\n",
       "      <td>34.532990</td>\n",
       "      <td>50.449219</td>\n",
       "      <td>29.140147</td>\n",
       "      <td>{'rings': [[[-13164419.5679966, 4037732.887447...</td>\n",
       "    </tr>\n",
       "    <tr>\n",
       "      <th>3</th>\n",
       "      <td>572125</td>\n",
       "      <td>0.099913</td>\n",
       "      <td>582895</td>\n",
       "      <td>483281846776</td>\n",
       "      <td>28.028676</td>\n",
       "      <td>40.953125</td>\n",
       "      <td>26.223260</td>\n",
       "      <td>{'rings': [[[-13164508.9820939, 4037764.896848...</td>\n",
       "    </tr>\n",
       "    <tr>\n",
       "      <th>4</th>\n",
       "      <td>572156</td>\n",
       "      <td>0.121953</td>\n",
       "      <td>582896</td>\n",
       "      <td>483067846671</td>\n",
       "      <td>175.807907</td>\n",
       "      <td>256.843750</td>\n",
       "      <td>67.884662</td>\n",
       "      <td>{'rings': [[[-13164584.1086929, 4037719.338436...</td>\n",
       "    </tr>\n",
       "    <tr>\n",
       "      <th>...</th>\n",
       "      <td>...</td>\n",
       "      <td>...</td>\n",
       "      <td>...</td>\n",
       "      <td>...</td>\n",
       "      <td>...</td>\n",
       "      <td>...</td>\n",
       "      <td>...</td>\n",
       "      <td>...</td>\n",
       "    </tr>\n",
       "    <tr>\n",
       "      <th>32061</th>\n",
       "      <td>3138378</td>\n",
       "      <td>0.190064</td>\n",
       "      <td>3140064</td>\n",
       "      <td>477799844998</td>\n",
       "      <td>468.266919</td>\n",
       "      <td>684.035156</td>\n",
       "      <td>117.957413</td>\n",
       "      <td>{'rings': [[[-13166519.579344, 4037091.4495733...</td>\n",
       "    </tr>\n",
       "    <tr>\n",
       "      <th>32062</th>\n",
       "      <td>3138698</td>\n",
       "      <td>0.298653</td>\n",
       "      <td>3124532</td>\n",
       "      <td>490365831290</td>\n",
       "      <td>742.822917</td>\n",
       "      <td>1084.136719</td>\n",
       "      <td>142.772918</td>\n",
       "      <td>{'rings': [[[-13161869.6936168, 4032042.612966...</td>\n",
       "    </tr>\n",
       "    <tr>\n",
       "      <th>32063</th>\n",
       "      <td>3138820</td>\n",
       "      <td>0.171364</td>\n",
       "      <td>3128988</td>\n",
       "      <td>484808828926</td>\n",
       "      <td>44.401059</td>\n",
       "      <td>64.792969</td>\n",
       "      <td>33.343984</td>\n",
       "      <td>{'rings': [[[-13163934.6494008, 4031185.253063...</td>\n",
       "    </tr>\n",
       "    <tr>\n",
       "      <th>32064</th>\n",
       "      <td>3139074</td>\n",
       "      <td>0.082008</td>\n",
       "      <td>3112573</td>\n",
       "      <td>482906847169</td>\n",
       "      <td>151.540136</td>\n",
       "      <td>221.402344</td>\n",
       "      <td>64.822990</td>\n",
       "      <td>{'rings': [[[-13164650.2712739, 4037895.516013...</td>\n",
       "    </tr>\n",
       "    <tr>\n",
       "      <th>32065</th>\n",
       "      <td>3139123</td>\n",
       "      <td>0.142058</td>\n",
       "      <td>3124545</td>\n",
       "      <td>482368846848</td>\n",
       "      <td>185.800907</td>\n",
       "      <td>271.437500</td>\n",
       "      <td>91.155982</td>\n",
       "      <td>{'rings': [[[-13164851.4746714, 4037815.945465...</td>\n",
       "    </tr>\n",
       "  </tbody>\n",
       "</table>\n",
       "<p>32066 rows × 8 columns</p>\n",
       "</div>"
      ],
      "text/plain": [
       "           FID  Scored_Lab  roof_no        bld_id    shp_area  Shape__Area  \\\n",
       "0       572084    0.081589   582892  484080847076  156.409978   228.523438   \n",
       "1       572114    0.180121   582893  483886847119   56.107847    81.972656   \n",
       "2       572122    0.094056   582894  483544846690   34.532990    50.449219   \n",
       "3       572125    0.099913   582895  483281846776   28.028676    40.953125   \n",
       "4       572156    0.121953   582896  483067846671  175.807907   256.843750   \n",
       "...        ...         ...      ...           ...         ...          ...   \n",
       "32061  3138378    0.190064  3140064  477799844998  468.266919   684.035156   \n",
       "32062  3138698    0.298653  3124532  490365831290  742.822917  1084.136719   \n",
       "32063  3138820    0.171364  3128988  484808828926   44.401059    64.792969   \n",
       "32064  3139074    0.082008  3112573  482906847169  151.540136   221.402344   \n",
       "32065  3139123    0.142058  3124545  482368846848  185.800907   271.437500   \n",
       "\n",
       "       Shape__Length                                              SHAPE  \n",
       "0          75.348608  {'rings': [[[-13164213.8394911, 4037871.723713...  \n",
       "1          38.125650  {'rings': [[[-13164295.1714371, 4037893.656464...  \n",
       "2          29.140147  {'rings': [[[-13164419.5679966, 4037732.887447...  \n",
       "3          26.223260  {'rings': [[[-13164508.9820939, 4037764.896848...  \n",
       "4          67.884662  {'rings': [[[-13164584.1086929, 4037719.338436...  \n",
       "...              ...                                                ...  \n",
       "32061     117.957413  {'rings': [[[-13166519.579344, 4037091.4495733...  \n",
       "32062     142.772918  {'rings': [[[-13161869.6936168, 4032042.612966...  \n",
       "32063      33.343984  {'rings': [[[-13163934.6494008, 4031185.253063...  \n",
       "32064      64.822990  {'rings': [[[-13164650.2712739, 4037895.516013...  \n",
       "32065      91.155982  {'rings': [[[-13164851.4746714, 4037815.945465...  \n",
       "\n",
       "[32066 rows x 8 columns]"
      ]
     },
     "execution_count": 98,
     "metadata": {},
     "output_type": "execute_result"
    }
   ],
   "source": [
    "df = queried_layer.sdf\n",
    "df"
   ]
  },
  {
   "cell_type": "code",
   "execution_count": 99,
   "metadata": {},
   "outputs": [],
   "source": [
    "if query_year == '2009' or '2012':\n",
    "    df.rename(columns={'Scored_Lab': 'albedo','shp_area': 'shape_area'}, inplace=True)\n",
    "\n",
    "match_area = df['shape_area'].sum(axis=0)"
   ]
  },
  {
   "cell_type": "code",
   "execution_count": 115,
   "metadata": {},
   "outputs": [],
   "source": [
    "# functions for percentage calculation and histogram\n",
    "\n",
    "def percentage(part, whole):\n",
    "  return 100 * float(part)/float(whole)\n",
    "\n",
    "def plot_histogram(dataframe):\n",
    "    dataframe['ScoredLabels']=dataframe['albedo']\n",
    "    x = dataframe.ScoredLabels.dropna()\n",
    "    plt.figure(figsize=(9,9))\n",
    "    N, bins, patches = plt.hist(x,bins=[0, 0.05, 0.1, 0.15, 0.2, 0.25, 0.3, 0.35, 0.4, 0.45, 0.5, 0.55, 0.6, 0.65, 0.7, 0.75, \n",
    "                                    0.8, 0.85,0.9,0.95,1])\n",
    "\n",
    "    cmap = plt.get_cmap('jet')\n",
    "    low = cmap(0.5)\n",
    "    medium =cmap(0.2)\n",
    "    high = cmap(0.7)\n",
    "\n",
    "\n",
    "    for i in range(0,1):\n",
    "        patches[i].set_facecolor('#d7191c')\n",
    "    for i in range(1,2):\n",
    "        patches[i].set_facecolor('#e9603d')\n",
    "    for i in range(2,3):\n",
    "        patches[i].set_facecolor('#fca75d')\n",
    "    for i in range(3,4):\n",
    "        patches[i].set_facecolor('#fed189')\n",
    "    for i in range(4,5):\n",
    "        patches[i].set_facecolor('#fff8b6')\n",
    "    for i in range(5,6):\n",
    "        patches[i].set_facecolor('#eef8c8')\n",
    "    for i in range(6,7):\n",
    "        patches[i].set_facecolor('#d9eed3')\n",
    "    for i in range(7,8):\n",
    "        patches[i].set_facecolor('#c3e4dd')\n",
    "    for i in range(8,9):\n",
    "        patches[i].set_facecolor('#addae8')\n",
    "    for i in range(9,10):\n",
    "        patches[i].set_facecolor('#85b9d2')\n",
    "    for i in range(10,11):\n",
    "        patches[i].set_facecolor('#5a96b8')\n",
    "    for i in range(11,12):\n",
    "        patches[i].set_facecolor('#2f729d')\n",
    "    for i in range(12,18):\n",
    "        patches[i].set_facecolor('#054e83')\n",
    "\n",
    "    plt.grid()    \n",
    "    plt.xlabel(\"Predicted Albedo\", fontsize=16)  \n",
    "    plt.ylabel(\"Count of Roofs\", fontsize=16)\n",
    "    plt.axvline(x.mean(), color='#544f50', linestyle='dashed', linewidth=1)\n",
    "    plt.xticks(np.arange(0, 1.01, 0.05),fontsize=8)   \n",
    "\n",
    "    ax = plt.subplot(111)  \n",
    "\n",
    "    mu = round(dataframe.loc[:,\"albedo\"].mean(),4)\n",
    "    sigma = round(dataframe.loc[:,\"albedo\"].std(),4)\n",
    "    textstr = '\\n'.join((\n",
    "        r'$\\mu=%.2f$' % (mu, ),\n",
    "        r'$\\sigma=%.2f$' % (sigma, )))\n",
    "    plt.text(1, 1, textstr, verticalalignment='top', horizontalalignment='right',transform=ax.transAxes, style='italic',fontsize=8)\n",
    "\n",
    "    plt.show()\n"
   ]
  },
  {
   "cell_type": "code",
   "execution_count": 116,
   "metadata": {
    "scrolled": true
   },
   "outputs": [],
   "source": [
    "# list of small, medium and large roof areas\n",
    "small_roofs = df.loc[(df['shape_area'] <= 500)]\n",
    "s_rfs_ar = small_roofs['shape_area'].sum(axis=0)\n",
    "\n",
    "medium_roofs = df.loc[(df['shape_area'] > 500) & (df['shape_area'] <= 5000)]\n",
    "m_rfs_ar = medium_roofs['shape_area'].sum(axis=0)\n",
    "\n",
    "large_roofs = df.loc[(df['shape_area'] >= 5000)]\n",
    "l_rfs_ar = large_roofs['shape_area'].sum(axis=0)\n",
    "\n",
    "# find the count of small and large roofs \n",
    "cnt_small_roofs = len(small_roofs)\n",
    "cnt_medium_roofs = len(medium_roofs)\n",
    "cnt_large_roofs = len(large_roofs)"
   ]
  },
  {
   "cell_type": "markdown",
   "metadata": {},
   "source": [
    "### Summary Statistics"
   ]
  },
  {
   "cell_type": "code",
   "execution_count": 117,
   "metadata": {
    "scrolled": false
   },
   "outputs": [
    {
     "name": "stdout",
     "output_type": "stream",
     "text": [
      "Total area of the given geometry =  40915415.98049829 square meters\n",
      "Total area of roofs within the given geometry =  12406595.88 square meters\n",
      "Total count of roofs within the given geometry =  32066\n",
      "\n",
      "number of small roofs =  26599\n",
      "Total area of small roofs =  3842749.36 square meters\n",
      "Percentage of small roofs on total area =  30.97 %\n",
      "\n",
      "number of medium roofs =  5239\n",
      "Total area of medium roofs =  6360597.93 square meters\n",
      "Percentage of medium roofs on total area =  51.27 %\n",
      "\n",
      "number of large roofs =  228\n",
      "Total area of large roofs =  2203248.6 square meters\n",
      "Percentage of large roofs on total area =  17.76 %\n",
      "\n",
      "Histogram of albedos for all roofs in 2012 within the AOI\n"
     ]
    },
    {
     "data": {
      "image/png": "[encoded data removed]",
      "text/plain": [
       "<Figure size 648x648 with 1 Axes>"
      ]
     },
     "metadata": {
      "needs_background": "light"
     },
     "output_type": "display_data"
    },
    {
     "name": "stdout",
     "output_type": "stream",
     "text": [
      "Histogram of albedos for small roofs in 2012 within the AOI\n"
     ]
    },
    {
     "data": {
      "image/png": "[encoded data removed]",
      "text/plain": [
       "<Figure size 648x648 with 1 Axes>"
      ]
     },
     "metadata": {
      "needs_background": "light"
     },
     "output_type": "display_data"
    },
    {
     "name": "stdout",
     "output_type": "stream",
     "text": [
      "Histogram of albedos for medium roofs in 2012 within the AOI\n"
     ]
    },
    {
     "data": {
      "image/png": "[encoded data removed]",
      "text/plain": [
       "<Figure size 648x648 with 1 Axes>"
      ]
     },
     "metadata": {
      "needs_background": "light"
     },
     "output_type": "display_data"
    },
    {
     "name": "stdout",
     "output_type": "stream",
     "text": [
      "Histogram of albedos for large roofs in 2012 within the AOI\n"
     ]
    },
    {
     "data": {
      "image/png": "[encoded data removed]",
      "text/plain": [
       "<Figure size 648x648 with 1 Axes>"
      ]
     },
     "metadata": {
      "needs_background": "light"
     },
     "output_type": "display_data"
    }
   ],
   "source": [
    "print('Total area of the given geometry = ',projected_area, 'square meters')\n",
    "print('Total area of roofs within the given geometry = ', round((match_area),2), 'square meters') \n",
    "print('Total count of roofs within the given geometry = ', df.shape[0])\n",
    "print()\n",
    "print('number of small roofs = ', cnt_small_roofs)\n",
    "print('Total area of small roofs = ', round((s_rfs_ar),2), 'square meters')\n",
    "print('Percentage of small roofs on total area = ', round(percentage((s_rfs_ar),(match_area)),2), '%')\n",
    "print()\n",
    "print('number of medium roofs = ', cnt_medium_roofs)\n",
    "print('Total area of medium roofs = ', round((m_rfs_ar),2), 'square meters')\n",
    "print('Percentage of medium roofs on total area = ', round(percentage((m_rfs_ar),(match_area)),2), '%')\n",
    "print()\n",
    "print('number of large roofs = ', cnt_large_roofs)\n",
    "print('Total area of large roofs = ', round((l_rfs_ar),2), 'square meters')\n",
    "print('Percentage of large roofs on total area = ', round(percentage((l_rfs_ar),(match_area)),2), '%')\n",
    "print()\n",
    "\n",
    "print('Histogram of albedos for all roofs in ' +query_year+ ' within the AOI')\n",
    "plot_histogram(df)\n",
    "print('Histogram of albedos for small roofs in ' +query_year+ ' within the AOI')\n",
    "plot_histogram(small_roofs)\n",
    "print('Histogram of albedos for medium roofs in ' +query_year+ ' within the AOI')\n",
    "plot_histogram(medium_roofs)\n",
    "print('Histogram of albedos for large roofs in ' +query_year+ ' within the AOI')\n",
    "plot_histogram(large_roofs)"
   ]
  },
  {
   "cell_type": "markdown",
   "metadata": {},
   "source": [
    "--------------------------------------------"
   ]
  }
 ],
 "metadata": {
  "kernelspec": {
   "display_name": "Python 3.6 - AzureML",
   "language": "python",
   "name": "python3-azureml"
  },
  "language_info": {
   "codemirror_mode": {
    "name": "ipython",
    "version": 3
   },
   "file_extension": ".py",
   "mimetype": "text/x-python",
   "name": "python",
   "nbconvert_exporter": "python",
   "pygments_lexer": "ipython3",
   "version": "3.6.8"
  }
 },
 "nbformat": 4,
 "nbformat_minor": 2
}
