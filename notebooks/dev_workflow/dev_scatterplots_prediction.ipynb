{
 "cells": [
  {
   "cell_type": "markdown",
   "metadata": {},
   "source": [
    "## Core Workflow: Create scatterplots on predictions\n",
    "Purpose: create scatterplots to analyze the model prediction outputs\n",
    "<br>\n",
    "*Date: 2019-09-11*\n"
   ]
  },
  {
   "cell_type": "code",
   "execution_count": 1,
   "metadata": {},
   "outputs": [],
   "source": [
    "import pandas as pd\n",
    "import matplotlib.pyplot as plt\n",
    "import seaborn as sns\n",
    "import os\n",
    "import numpy as np\n"
   ]
  },
  {
   "cell_type": "markdown",
   "metadata": {},
   "source": [
    "### CREATE A SCATTER PLOT TO SHOW THE RELATIONSHIP BETWEEN BANDS AND PREDICTED ALBEDO"
   ]
  },
  {
   "cell_type": "code",
   "execution_count": null,
   "metadata": {
    "scrolled": true
   },
   "outputs": [],
   "source": [
    "df5 = pd.read_csv('LA_2009_norm_band_values_gg_pred.csv')\n",
    "df5"
   ]
  },
  {
   "cell_type": "code",
   "execution_count": null,
   "metadata": {},
   "outputs": [],
   "source": [
    "# df5['ScoredLabels']=df5['Scored Label Mean']\n",
    "x = df5.gg_prediction.dropna()\n",
    "y = df5.norm_nir_mean.dropna()\n",
    "\n",
    "colors = (0,0,0)\n",
    "\n",
    "# Plot\n",
    "plt.figure(figsize=(250,250))\n",
    "plt.grid()\n",
    "plt.axis([0, 1, -5, 5])\n",
    "plt.scatter(x, y,  c=colors, alpha=0.5)\n",
    "plt.xticks(np.arange(0, 1, 0.1),fontsize=250)\n",
    "plt.yticks(np.arange(-5, 5, 1),fontsize=250)\n",
    "plt.title('Scene normalization')\n",
    "plt.xlabel('PREDICTED_ALBEDO')\n",
    "plt.ylabel('Norm_RED_MEAN')\n",
    "plt.show()"
   ]
  },
  {
   "cell_type": "code",
   "execution_count": null,
   "metadata": {
    "scrolled": true
   },
   "outputs": [],
   "source": [
    "df6 = pd.read_csv('LA_2009_org_band_values_gg_pred.csv')\n",
    "df6"
   ]
  },
  {
   "cell_type": "code",
   "execution_count": null,
   "metadata": {},
   "outputs": [],
   "source": [
    "# df6['ScoredLabels']=df6['Scored Label Mean']\n",
    "x = df6.gg_prediction.dropna()\n",
    "y = df6.org_red_mean.dropna()\n",
    "\n",
    "colors = (0,0,0)\n",
    "\n",
    "# Plot\n",
    "plt.figure(figsize=(200,200))\n",
    "plt.grid()\n",
    "plt.axis([0, 1, 0, 1])\n",
    "plt.scatter(x, y,  c=colors, alpha=0.1)\n",
    "plt.xticks(np.arange(0, 1, 0.1),fontsize=200)\n",
    "plt.yticks(np.arange(0, 1, 0.1),fontsize=200)\n",
    "plt.title('Scene normalization')\n",
    "plt.xlabel('PREDICTED_ALBEDO')\n",
    "plt.ylabel('Org_RED_MEAN')\n",
    "plt.show()"
   ]
  },
  {
   "cell_type": "code",
   "execution_count": null,
   "metadata": {},
   "outputs": [],
   "source": [
    "df6['ScoredLabels']=df6['Scored Label Mean']\n",
    "x = df6.ScoredLabels.dropna()\n",
    "y = df6.org_blue_mean.dropna()\n",
    "\n",
    "colors = (0,0,0)\n",
    "\n",
    "# Plot\n",
    "plt.figure(figsize=(10,10))\n",
    "plt.axis([0, 1, 0, 1])\n",
    "plt.scatter(x, y,  c=colors, alpha=0.1)\n",
    "plt.xticks(np.arange(0, 1, 0.1),fontsize=10)\n",
    "plt.title('Scene normalization')\n",
    "plt.xlabel('PREDICTED_ALBEDO')\n",
    "plt.ylabel('Org_RED_MEAN')\n",
    "plt.show()"
   ]
  },
  {
   "cell_type": "code",
   "execution_count": null,
   "metadata": {},
   "outputs": [],
   "source": []
  },
  {
   "cell_type": "code",
   "execution_count": null,
   "metadata": {
    "scrolled": true
   },
   "outputs": [],
   "source": [
    "df = pd.read_csv('LosAngeles_final_albedo_dataset_key_vars.csv')\n",
    "df"
   ]
  },
  {
   "cell_type": "code",
   "execution_count": null,
   "metadata": {
    "scrolled": true
   },
   "outputs": [],
   "source": [
    "df2 = pd.read_csv('LA_official_2009_gg_prediction.csv')\n",
    "df2"
   ]
  },
  {
   "cell_type": "code",
   "execution_count": null,
   "metadata": {},
   "outputs": [],
   "source": [
    "img_info= df2[['green_mean','gg_prediction']].apply(tuple, axis=1)"
   ]
  },
  {
   "cell_type": "code",
   "execution_count": null,
   "metadata": {
    "scrolled": true
   },
   "outputs": [],
   "source": [
    "from sklearn.metrics import mean_absolute_error\n",
    "from sklearn.metrics import mean_squared_error\n",
    "from sklearn.metrics import mean_squared_error\n",
    "from math import sqrt\n",
    "import numpy\n",
    "import math\n",
    "\n",
    "gg_predictions=[]\n",
    "red_means=[]\n",
    "\n",
    "cnt = -1\n",
    "nan_cnt=0\n",
    "for Y, X in img_info.iteritems():\n",
    "    cnt = cnt + 1\n",
    "    \n",
    "    red_mean=X[0]\n",
    "    gg_prediction=X[1]\n",
    "    print(red_mean)\n",
    "#     if math.isnan(red_mean) == False:    \n",
    "#         gg_predictions.append(gg_prediction)\n",
    "#         red_means.append(red_mean)\n",
    "#     else:\n",
    "#         nan_cnt+=1\n",
    "        \n",
    "print('number of NAN in prediction: ', nan_cnt)"
   ]
  },
  {
   "cell_type": "code",
   "execution_count": null,
   "metadata": {
    "scrolled": false
   },
   "outputs": [],
   "source": [
    "\n",
    "x = df2.gg_prediction.dropna()\n",
    "y = df2.red_mean.dropna()\n",
    "\n",
    "colors = (0,0,0)\n",
    "\n",
    "# Plot\n",
    "plt.figure(figsize=(10,10))\n",
    "plt.axis([0, 1, 0, 1])\n",
    "plt.scatter(x, y,  c=colors, alpha=0.1)\n",
    "plt.xticks(np.arange(0, 1, 0.1),fontsize=10)\n",
    "plt.title('Scene normalization')\n",
    "plt.xlabel('PREDICTED_ALBEDO')\n",
    "plt.ylabel('RED_MEAN')\n",
    "plt.show()"
   ]
  },
  {
   "cell_type": "code",
   "execution_count": null,
   "metadata": {
    "scrolled": true
   },
   "outputs": [],
   "source": [
    "df3 = pd.read_csv('LA_official_2009_gg_prediction_orgs.csv')\n",
    "df3"
   ]
  },
  {
   "cell_type": "code",
   "execution_count": null,
   "metadata": {
    "scrolled": true
   },
   "outputs": [],
   "source": [
    "df4 = pd.read_csv('pred_LA_cnty_2012_rf-nrm_9_16-v4_10-21.csv')\n",
    "df4.head()"
   ]
  },
  {
   "cell_type": "code",
   "execution_count": 12,
   "metadata": {},
   "outputs": [
    {
     "data": {
      "text/plain": [
       "0.82508253968254"
      ]
     },
     "execution_count": 12,
     "metadata": {},
     "output_type": "execute_result"
    }
   ],
   "source": [
    "df4.loc[:,\"Scored Label Mean\"].max()"
   ]
  },
  {
   "cell_type": "code",
   "execution_count": 7,
   "metadata": {
    "scrolled": true
   },
   "outputs": [],
   "source": [
    "img_info= df4[['norm_red_mean','Scored Label Mean']].apply(tuple, axis=1)"
   ]
  },
  {
   "cell_type": "code",
   "execution_count": 8,
   "metadata": {},
   "outputs": [
    {
     "name": "stdout",
     "output_type": "stream",
     "text": [
      "number of NAN in prediction:  4902\n"
     ]
    }
   ],
   "source": [
    "from sklearn.metrics import mean_absolute_error\n",
    "from sklearn.metrics import mean_squared_error\n",
    "from sklearn.metrics import mean_squared_error\n",
    "from math import sqrt\n",
    "import numpy\n",
    "import math\n",
    "\n",
    "predictions=[]\n",
    "red_means=[]\n",
    "org_red_means=[]\n",
    "\n",
    "cnt = -1\n",
    "nan_cnt=0\n",
    "for Y, X in img_info.iteritems():\n",
    "    cnt = cnt + 1\n",
    "    \n",
    "    red_mean=X[0]\n",
    "#     org_red_mean=X[1]\n",
    "    prediction=X[1]\n",
    "    \n",
    "    if math.isnan(red_mean) == False:    \n",
    "        predictions.append(prediction)\n",
    "        red_means.append(red_mean)\n",
    "#         org_red_means.append(org_red_mean)\n",
    "    else:\n",
    "        nan_cnt+=1\n",
    "        \n",
    "print('number of NAN in prediction: ', nan_cnt)"
   ]
  },
  {
   "cell_type": "code",
   "execution_count": 11,
   "metadata": {},
   "outputs": [
    {
     "data": {
      "image/png": "[encoded data removed]",
      "text/plain": [
       "<Figure size 864x864 with 1 Axes>"
      ]
     },
     "metadata": {
      "needs_background": "light"
     },
     "output_type": "display_data"
    }
   ],
   "source": [
    "x = predictions\n",
    "y = red_means\n",
    "# print(len(x))\n",
    "# print(len(y))\n",
    "colors = (0,0,0)\n",
    "\n",
    "# Plot\n",
    "plt.figure(figsize=(12,12))\n",
    "plt.axis([0, 1, -10, 15])\n",
    "plt.scatter(x, y,  c=colors, alpha=0.1)\n",
    "plt.xticks(np.arange(0, 1, 0.1),fontsize=10)\n",
    "plt.title('bands_LA_2012_rf_norm_9-16_v4')\n",
    "plt.xlabel('PREDICTED_ALBEDO')\n",
    "plt.ylabel('Red_MEAN')\n",
    "plt.show()"
   ]
  },
  {
   "cell_type": "code",
   "execution_count": null,
   "metadata": {},
   "outputs": [],
   "source": [
    "x = gg_predictions\n",
    "y = red_means\n",
    "# print(len(x))\n",
    "# print(len(y))\n",
    "colors = (0,0,0)\n",
    "\n",
    "# Plot\n",
    "plt.figure(figsize=(10,10))\n",
    "plt.axis([0, 1, -5, 5])\n",
    "plt.scatter(x, y,  c=colors, alpha=0.1)\n",
    "plt.xticks(np.arange(0, 1, 0.1),fontsize=10)\n",
    "plt.title('regular normalization')\n",
    "plt.xlabel('PREDICTED_ALBEDO')\n",
    "plt.ylabel('RED_MEAN')\n",
    "plt.show()"
   ]
  },
  {
   "cell_type": "code",
   "execution_count": null,
   "metadata": {},
   "outputs": [],
   "source": [
    "\n",
    "x = df3.gg_prediction.dropna()\n",
    "y = df3.org_red_mean.dropna()\n",
    "\n",
    "colors = (0,0,0)\n",
    "\n",
    "# Plot\n",
    "plt.figure(figsize=(10,10))\n",
    "plt.axis([0, 1, 0, 1])\n",
    "plt.scatter(x, y,  c=colors, alpha=0.1)\n",
    "plt.xticks(np.arange(0, 1, 0.1),fontsize=10)\n",
    "plt.title('ULU normalization')\n",
    "plt.xlabel('PREDICTED_ALBEDO')\n",
    "plt.ylabel('RED_MEAN')\n",
    "plt.show()"
   ]
  },
  {
   "cell_type": "code",
   "execution_count": null,
   "metadata": {
    "scrolled": false
   },
   "outputs": [],
   "source": [
    "\n",
    "x = df.CALIB_SR.dropna()\n",
    "y = df.MEAN_BND1.dropna()\n",
    "\n",
    "colors = (0,0,0)\n",
    "\n",
    "# Plot\n",
    "plt.figure(figsize=(10,10))\n",
    "plt.axis([0, 1, 0, 1])\n",
    "plt.scatter(x, y,  c=colors, alpha=0.1)\n",
    "plt.xticks(np.arange(0, 1, 0.1),fontsize=10)\n",
    "# plt.title('Scatter plot pythonspot.com')\n",
    "plt.xlabel('PREDICTED_ALBEDO')\n",
    "plt.ylabel('RED_MEAN')\n",
    "plt.show()"
   ]
  },
  {
   "cell_type": "code",
   "execution_count": null,
   "metadata": {},
   "outputs": [],
   "source": [
    "x = df.CALIB_SR.dropna()\n",
    "y = df.MEAN_BND2.dropna()\n",
    "\n",
    "colors = (0,0,0)\n",
    "\n",
    "# Plot\n",
    "plt.figure(figsize=(10,10))\n",
    "plt.axis([0, 1, 0, 1])\n",
    "plt.scatter(x, y,  c=colors, alpha=0.1)\n",
    "plt.xticks(np.arange(0, 1, 0.1),fontsize=10)\n",
    "# plt.title('Scatter plot pythonspot.com')\n",
    "plt.xlabel('PREDICTED_ALBEDO')\n",
    "plt.ylabel('GREEN_MEAN')\n",
    "plt.show()"
   ]
  },
  {
   "cell_type": "code",
   "execution_count": null,
   "metadata": {},
   "outputs": [],
   "source": [
    "x = df.CALIB_SR.dropna()\n",
    "y = df.MEAN_BND3.dropna()\n",
    "\n",
    "colors = (0,0,0)\n",
    "\n",
    "# Plot\n",
    "plt.figure(figsize=(10,10))\n",
    "plt.axis([0, 1, 0, 1])\n",
    "plt.scatter(x, y,  c=colors, alpha=0.1)\n",
    "plt.xticks(np.arange(0, 1, 0.1),fontsize=10)\n",
    "# plt.title('Scatter plot pythonspot.com')\n",
    "plt.xlabel('PREDICTED_ALBEDO')\n",
    "plt.ylabel('BLUE_MEAN')\n",
    "plt.show()"
   ]
  },
  {
   "cell_type": "code",
   "execution_count": null,
   "metadata": {},
   "outputs": [],
   "source": [
    "x = df.CALIB_SR.dropna()\n",
    "y = df.MEAN_BND4.dropna()\n",
    "\n",
    "colors = (0,0,0)\n",
    "\n",
    "# Plot\n",
    "plt.figure(figsize=(10,10))\n",
    "plt.axis([0, 1, 0, 1])\n",
    "plt.scatter(x, y,  c=colors, alpha=0.1)\n",
    "plt.xticks(np.arange(0, 1, 0.1),fontsize=10)\n",
    "# plt.title('Scatter plot pythonspot.com')\n",
    "plt.xlabel('PREDICTED_ALBEDO')\n",
    "plt.ylabel('NIR_MEAN')\n",
    "plt.show()"
   ]
  },
  {
   "cell_type": "code",
   "execution_count": null,
   "metadata": {},
   "outputs": [],
   "source": []
  }
 ],
 "metadata": {
  "kernelspec": {
   "display_name": "Python 3.6 - AzureML",
   "language": "python",
   "name": "python3-azureml"
  },
  "language_info": {
   "codemirror_mode": {
    "name": "ipython",
    "version": 3
   },
   "file_extension": ".py",
   "mimetype": "text/x-python",
   "name": "python",
   "nbconvert_exporter": "python",
   "pygments_lexer": "ipython3",
   "version": "3.6.8"
  }
 },
 "nbformat": 4,
 "nbformat_minor": 2
}
