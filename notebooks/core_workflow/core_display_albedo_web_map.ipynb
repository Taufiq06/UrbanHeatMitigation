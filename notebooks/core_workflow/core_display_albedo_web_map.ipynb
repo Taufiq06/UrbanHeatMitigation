{
 "cells": [
  {
   "cell_type": "markdown",
   "metadata": {},
   "source": [
    "## Core Workflow: Display Webmap from ArcGIS online \n",
    "Purpose: The roof albedo prediction for different years are stored as vector layers in an ArcGIS online server. This notebook establishes a connection to ArcGIS and searches for those layers. It then displays the maps within the notebook.\n",
    "<br>\n",
    "\n"
   ]
  },
  {
   "cell_type": "markdown",
   "metadata": {},
   "source": [
    "`This notebook requires arcgis library to connect to ArcGIS online and perform subsequent performations. Set the variable below to False if ArcGIS library is already installed`"
   ]
  },
  {
   "cell_type": "code",
   "execution_count": 1,
   "metadata": {},
   "outputs": [],
   "source": [
    "arcgis_library_installed = True"
   ]
  },
  {
   "cell_type": "code",
   "execution_count": 2,
   "metadata": {},
   "outputs": [],
   "source": [
    "if not arcgis_library_installed:\n",
    "    print('Installing arcgis library needed to display the webmap')\n",
    "    !conda install -c esri arcgis --yes"
   ]
  },
  {
   "cell_type": "markdown",
   "metadata": {},
   "source": [
    "### Import required libraries and functions"
   ]
  },
  {
   "cell_type": "code",
   "execution_count": 3,
   "metadata": {},
   "outputs": [],
   "source": [
    "from IPython.display import display\n",
    "import arcgis\n",
    "from arcgis.gis import GIS\n",
    "\n",
    "import matplotlib.pyplot as plt\n",
    "import matplotlib as mpl"
   ]
  },
  {
   "cell_type": "code",
   "execution_count": 4,
   "metadata": {},
   "outputs": [],
   "source": [
    "# Function to draw legend for the maps\n",
    "def draw_legend():\n",
    "    fig = plt.figure(figsize=(12, 3))\n",
    "    ax3 = fig.add_axes([0.05, 0.80, 0.9, 0.15])\n",
    "\n",
    "    cmap = mpl.colors.ListedColormap(['#d7191c', '#ea633e', '#fdae61', '#fed690','#ffffbf','#d5ecd4', '#c7dcef','#a2cbe2','#72b2d7',\n",
    "                                      '#4997c9','#2878b8','#0d57a1', '#08306b'])\n",
    "\n",
    "    bounds = [0, 0.05, 0.1, 0.15, 0.2, 0.25, 0.3, 0.35, 0.4, 0.45, 0.5, 0.55, 0.6,1]\n",
    "    norm = mpl.colors.BoundaryNorm(bounds, cmap.N)\n",
    "    cb3 = mpl.colorbar.ColorbarBase(ax3, cmap=cmap,\n",
    "                                    norm=norm,\n",
    "                                    boundaries=bounds,\n",
    "                                    extendfrac='auto',\n",
    "                                    ticks=bounds,\n",
    "                                    spacing='uniform',\n",
    "                                    orientation='horizontal')\n",
    "    cb3.set_label('Surface Albedo')\n",
    "\n",
    "    return(plt.show())"
   ]
  },
  {
   "cell_type": "markdown",
   "metadata": {},
   "source": [
    "### Connect to ArcGIS without signing in"
   ]
  },
  {
   "cell_type": "code",
   "execution_count": 5,
   "metadata": {},
   "outputs": [],
   "source": [
    "gis = GIS(\"https://www.arcgis.com\")"
   ]
  },
  {
   "cell_type": "markdown",
   "metadata": {},
   "source": [
    "### Create a map of albedo prediction for roofs within Los Angeles county in 2009"
   ]
  },
  {
   "cell_type": "code",
   "execution_count": 6,
   "metadata": {
    "scrolled": false
   },
   "outputs": [
    {
     "data": {
      "application/vnd.jupyter.widget-view+json": {
       "model_id": "b5bb5f0736b14d648b9ade0b8ee27247",
       "version_major": 2,
       "version_minor": 0
      },
      "text/plain": [
       "MapView(layout=Layout(height='600px', width='100%'), zoom=11.0)"
      ]
     },
     "metadata": {},
     "output_type": "display_data"
    },
    {
     "data": {
      "text/html": [
       "<div class=\"map-static-img-preview-26f41ada-8b36-429f-bcc6-66c02dd2b2f1\"><img src=\"\"></img></div>"
      ],
      "text/plain": [
       "<IPython.core.display.HTML object>"
      ]
     },
     "metadata": {},
     "output_type": "display_data"
    }
   ],
   "source": [
    "# Search for the layer from ArcGIS online\n",
    "webmap_search = gis.content.search(query=\"title:LA_2009_vec\", item_type=\"Vector Tile Layer\", \n",
    "                                   sort_order=\"asc\",max_items = 1,outside_org=True)\n",
    "\n",
    "LA_2009_map_item = webmap_search[0]\n",
    "\n",
    "#Create a new map object\n",
    "LA_2009_map = gis.map('Los Angeles',zoomlevel = 11, mode=\"2D\")\n",
    "\n",
    "# Add the layer to the map\n",
    "LA_2009_map.add_layer(LA_2009_map_item)\n",
    "\n",
    "# set the height of map\n",
    "LA_2009_map.layout.height = '600px'\n",
    "\n",
    "#Display the map\n",
    "LA_2009_map"
   ]
  },
  {
   "cell_type": "code",
   "execution_count": 7,
   "metadata": {},
   "outputs": [
    {
     "data": {
      "image/png": "[encoded data removed]",
      "text/plain": [
       "<Figure size 864x216 with 1 Axes>"
      ]
     },
     "metadata": {},
     "output_type": "display_data"
    }
   ],
   "source": [
    "# Legend for the map\n",
    "draw_legend()"
   ]
  },
  {
   "cell_type": "markdown",
   "metadata": {},
   "source": [
    "-------------------------------"
   ]
  },
  {
   "cell_type": "markdown",
   "metadata": {},
   "source": [
    "### Create a map of albedo prediction for roofs within Los Angeles county in 2012"
   ]
  },
  {
   "cell_type": "code",
   "execution_count": null,
   "metadata": {
    "scrolled": false
   },
   "outputs": [],
   "source": [
    "# Search for the layer from ArcGIS online\n",
    "webmap_search = gis.content.search(query=\"title:LA_2012_vec\", item_type=\"Vector Tile Layer\", \n",
    "                                   sort_order=\"asc\",max_items = 1,outside_org=True)\n",
    "\n",
    "LA_2012_map_item = webmap_search[0]\n",
    "\n",
    "#Create a new map object\n",
    "LA_2012_map = gis.map('Los Angeles',zoomlevel = 11, mode=\"2D\")\n",
    "\n",
    "# Add the layer to the map\n",
    "LA_2012_map.add_layer(LA_2012_map_item)\n",
    "\n",
    "# set the height of map\n",
    "LA_2012_map.layout.height = '600px'\n",
    "\n",
    "#Display the map\n",
    "LA_2012_map"
   ]
  },
  {
   "cell_type": "code",
   "execution_count": null,
   "metadata": {},
   "outputs": [],
   "source": [
    "# Legend for the map\n",
    "draw_legend()"
   ]
  },
  {
   "cell_type": "markdown",
   "metadata": {},
   "source": [
    "------------------------------------------"
   ]
  },
  {
   "cell_type": "markdown",
   "metadata": {},
   "source": [
    "### Create a map of albedo prediction for roofs within Los Angeles county in 2014"
   ]
  },
  {
   "cell_type": "code",
   "execution_count": null,
   "metadata": {
    "scrolled": false
   },
   "outputs": [],
   "source": [
    "# Search for the layer from ArcGIS online\n",
    "webmap_search = gis.content.search(query=\"title:LA_2014_vec\", item_type=\"Vector Tile Layer\", \n",
    "                                   sort_order=\"asc\",max_items = 1,outside_org=True)\n",
    "\n",
    "LA_2014_map_item = webmap_search[0]\n",
    "\n",
    "#Create a new map object\n",
    "LA_2014_map = gis.map('Los Angeles',zoomlevel = 11, mode=\"2D\")\n",
    "\n",
    "# Add the layer to the map\n",
    "LA_2014_map.add_layer(LA_2014_map_item)\n",
    "\n",
    "# set the height of map\n",
    "LA_2014_map.layout.height = '600px'\n",
    "\n",
    "#Display the map\n",
    "LA_2014_map"
   ]
  },
  {
   "cell_type": "code",
   "execution_count": null,
   "metadata": {},
   "outputs": [],
   "source": [
    "# Legend for the map\n",
    "draw_legend()"
   ]
  },
  {
   "cell_type": "markdown",
   "metadata": {},
   "source": [
    "------------------------------------------------"
   ]
  },
  {
   "cell_type": "markdown",
   "metadata": {},
   "source": [
    "### Create a map of albedo prediction for roofs within Los Angeles county in 2016"
   ]
  },
  {
   "cell_type": "code",
   "execution_count": null,
   "metadata": {
    "scrolled": false
   },
   "outputs": [],
   "source": [
    "# Search for the layer from ArcGIS online\n",
    "webmap_search = gis.content.search(query=\"title:LA_2016_vec\", item_type=\"Vector Tile Layer\", \n",
    "                                   sort_order=\"asc\",max_items = 1,outside_org=True)\n",
    "\n",
    "LA_2016_map_item = webmap_search[0]\n",
    "\n",
    "#Create a new map object\n",
    "LA_2016_map = gis.map('Los Angeles',zoomlevel = 11, mode=\"2D\")\n",
    "\n",
    "# Add the layer to the map\n",
    "LA_2016_map.add_layer(LA_2016_map_item)\n",
    "\n",
    "# set the height of map\n",
    "LA_2016_map.layout.height = '600px'\n",
    "\n",
    "#Display the map\n",
    "LA_2016_map"
   ]
  },
  {
   "cell_type": "code",
   "execution_count": null,
   "metadata": {},
   "outputs": [],
   "source": [
    "# Legend for the map\n",
    "draw_legend()"
   ]
  },
  {
   "cell_type": "markdown",
   "metadata": {},
   "source": [
    "---------------------------------------"
   ]
  }
 ],
 "metadata": {
  "kernelspec": {
   "display_name": "Python 3.5",
   "language": "python",
   "name": "python3"
  },
  "language_info": {
   "codemirror_mode": {
    "name": "ipython",
    "version": 3
   },
   "file_extension": ".py",
   "mimetype": "text/x-python",
   "name": "python",
   "nbconvert_exporter": "python",
   "pygments_lexer": "ipython3",
   "version": "3.5.5"
  }
 },
 "nbformat": 4,
 "nbformat_minor": 2
}
