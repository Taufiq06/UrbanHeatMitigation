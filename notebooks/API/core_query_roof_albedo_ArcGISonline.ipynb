{
 "cells": [
  {
   "cell_type": "markdown",
   "metadata": {},
   "source": [
    "## Core Workflow: Query Feature layer\n",
    "Purpose: Load albedo prediction for different years from ArcGIS online and query them. The queries can be performed on whole LA county or on a subset area based on user input geometry. The user can upload either a geojson file or a shapefile to define area of interest. The area of the user input geometry must be less than 70 square miles for the code to work. The user can further limit their query using filter for roof albedo, building footprint area and building use type. Some summary statistics are generated initially based on preset criteria where the filter properties are preset by the developer. Some summary statistics are generated at the end based on user defined criteria where the user has more flexibility to set filters for different properties \n",
    "<br>\n",
    "*Date: 2019-12-16*"
   ]
  },
  {
   "cell_type": "markdown",
   "metadata": {},
   "source": [
    "### Import libraries"
   ]
  },
  {
   "cell_type": "code",
   "execution_count": 23,
   "metadata": {},
   "outputs": [],
   "source": [
    "from IPython.display import display\n",
    "import arcgis\n",
    "from arcgis import GIS\n",
    "from arcgis.geometry import Geometry\n",
    "\n",
    "import pandas as pd\n",
    "import matplotlib.pyplot as plt\n",
    "import os\n",
    "import numpy as np\n",
    "from numpy import mean\n",
    "import statistics\n",
    "import fiona\n",
    "import json\n",
    "import shapely\n",
    "from shapely.geometry import shape, Point\n",
    "from shapely.geometry import mapping, Polygon\n",
    "\n",
    "import pyproj\n",
    "from shapely.ops import transform\n",
    "from functools import partial\n",
    "\n",
    "import warnings\n",
    "warnings.filterwarnings('ignore')\n"
   ]
  },
  {
   "cell_type": "markdown",
   "metadata": {},
   "source": [
    "### Input parameters"
   ]
  },
  {
   "cell_type": "code",
   "execution_count": 24,
   "metadata": {},
   "outputs": [],
   "source": [
    "# Set which year to query\n",
    "query_year = '2014'\n",
    "\n",
    "# pass input geometry name\n",
    "inp_shp = 'NeighborhoodCouncils_4326.geojson'\n",
    "\n",
    "# declare input shape type (geojson or shapefile)\n",
    "inp_shp_type = 'geojson'\n",
    "\n",
    "# cooridnate system of the input shape. It must be epsg:4326\n",
    "inp_crs = 'epsg:4326'"
   ]
  },
  {
   "cell_type": "markdown",
   "metadata": {},
   "source": [
    "### Make connection to ArcGIS online"
   ]
  },
  {
   "cell_type": "code",
   "execution_count": 25,
   "metadata": {},
   "outputs": [],
   "source": [
    "# connect to your GIS without signing in\n",
    "gis = GIS(\"https://www.arcgis.com\")"
   ]
  },
  {
   "cell_type": "markdown",
   "metadata": {},
   "source": [
    "### Search for all the prediction layers from ArcGIS online"
   ]
  },
  {
   "cell_type": "code",
   "execution_count": 26,
   "metadata": {
    "scrolled": true
   },
   "outputs": [],
   "source": [
    "webmap_search = gis.content.search(\"prediction_LA_cnty_LA_cnty_2009\", item_type=\"Feature Layer\", max_items = 100,outside_org=True)\n",
    "LA_map_item = webmap_search[0]\n",
    "LA_layer_2009 = LA_map_item.layers[0]\n",
    "\n",
    "webmap_search = gis.content.search(\"prediction_LA_cnty_LA_cnty_2012\", item_type=\"Feature Layer\", max_items = 100,outside_org=True)\n",
    "LA_map_item = webmap_search[0]\n",
    "LA_layer_2012 = LA_map_item.layers[0]\n",
    "\n",
    "webmap_search = gis.content.search(\"LA_cnty_2014\", item_type=\"Feature Layer\", max_items = 100,outside_org=True)\n",
    "LA_map_item = webmap_search[0]\n",
    "LA_layer_2014 = LA_map_item.layers[0]\n",
    "\n",
    "webmap_search = gis.content.search(\"LA_cnty_2016\", item_type=\"Feature Layer\", max_items = 100,outside_org=True)\n",
    "LA_map_item = webmap_search[0]\n",
    "LA_layer_2016 = LA_map_item.layers[0]\n",
    "\n",
    "webmap_search = gis.content.search(\"LA_cnty_2018\", item_type=\"Feature Layer\", max_items = 100,outside_org=True)\n",
    "LA_map_item = webmap_search[0]\n",
    "LA_layer_2018 = LA_map_item.layers[0]"
   ]
  },
  {
   "cell_type": "code",
   "execution_count": 27,
   "metadata": {},
   "outputs": [],
   "source": [
    "if query_year == '2009':\n",
    "    LA_layer = LA_layer_2009\n",
    "elif query_year == '2012':\n",
    "    LA_layer = LA_layer_2012\n",
    "elif query_year == '2014':\n",
    "    LA_layer = LA_layer_2014\n",
    "elif query_year == '2016':\n",
    "    LA_layer = LA_layer_2016\n",
    "elif query_year == '2018':\n",
    "    LA_layer = LA_layer_2018"
   ]
  },
  {
   "cell_type": "markdown",
   "metadata": {},
   "source": [
    "### Load the user input geometry"
   ]
  },
  {
   "cell_type": "code",
   "execution_count": 28,
   "metadata": {
    "scrolled": true
   },
   "outputs": [
    {
     "data": {
      "image/svg+xml": [
       "<svg xmlns=\"http://www.w3.org/2000/svg\" xmlns:xlink=\"http://www.w3.org/1999/xlink\" width=\"100.0\" height=\"100.0\" viewBox=\"-118.28190495540692 33.96128528514063 0.026577279212077087 0.02911443649661294\" preserveAspectRatio=\"xMinYMin meet\"><g transform=\"matrix(1,0,0,-1,0,67.95168500677788)\"><path fill-rule=\"evenodd\" fill=\"#66cc99\" stroke=\"#555555\" stroke-width=\"0.0005822887299322588\" opacity=\"0.6\" d=\"M -118.27388577756197,33.96236678648985 L -118.27553465323227,33.96236577915944 L -118.2759765506902,33.962365112324534 L -118.27717858008367,33.96236441717709 L -118.27813162971806,33.96236359760347 L -118.27829660532,33.962390008732 L -118.27913423401677,33.962389447696765 L -118.27988447280609,33.96238908335914 L -118.28081441507642,33.96238142630823 L -118.28081828591698,33.96402772631845 L -118.2808207796402,33.96427983676135 L -118.2808081376492,33.96641082932309 L -118.28081435578761,33.96826527516328 L -118.28082664294408,33.96947086890055 L -118.28081659259267,33.970407911249424 L -118.2808134215397,33.97142943532958 L -118.28081667164439,33.97239873529942 L -118.28080974563358,33.97328390508586 L -118.28080377273524,33.97445347586298 L -118.28080137603007,33.975214295192636 L -118.28080185213717,33.97633988621281 L -118.28080473213598,33.97818231884551 L -118.28081341255657,33.97929552503631 L -118.28080120265521,33.980080755001296 L -118.28080552175508,33.98038507026042 L -118.28079629785377,33.9805853418021 L -118.28078707395242,33.98078561287202 L -118.28077280870572,33.980958074717435 L -118.28075540564373,33.98117828743051 L -118.28073613857751,33.981334617655484 L -118.28063553714718,33.98231995917949 L -118.28056660582216,33.9829129701763 L -118.2805286466115,33.983397712136174 L -118.28051627052183,33.98364195731611 L -118.28050707356994,33.983850472206036 L -118.2805033734093,33.98422281613155 L -118.28049207080637,33.98528008125503 L -118.28050491940992,33.98616142838719 L -118.28048596226245,33.98788781615781 L -118.28047758098086,33.98834020223406 L -118.28048362304943,33.98915905081625 L -118.28010591471015,33.989160959076216 L -118.27995417308898,33.98916199811705 L -118.27799471479067,33.98917305365964 L -118.27660099210209,33.989180721705075 L -118.27623977952634,33.98918292342832 L -118.27355294366436,33.98919763087868 L -118.27296081465327,33.98920000242317 L -118.27017005628932,33.989211778213054 L -118.26934206382059,33.989215003334216 L -118.26759701541428,33.989222320560174 L -118.26700653481174,33.989224658586544 L -118.26608782777065,33.98922874920148 L -118.26446319493493,33.98923919024942 L -118.26299526691228,33.989253046347784 L -118.26265384871384,33.989256194004945 L -118.2623470668578,33.98925892232198 L -118.26117439889937,33.989278296871035 L -118.26049157238393,33.98928732943744 L -118.26002645167927,33.98929142377351 L -118.25932217339482,33.989297404766155 L -118.25887519506566,33.98930111178972 L -118.25809834458438,33.98930758511489 L -118.25644732912703,33.98932140917441 L -118.25644886434787,33.98659140725524 L -118.25645103198265,33.984068182088684 L -118.25643748359154,33.97964415814358 L -118.25642441759574,33.977531427012494 L -118.25640798651085,33.974319560074015 L -118.25640814461434,33.97329392271393 L -118.25642069228225,33.97146760177653 L -118.25640698488932,33.97129932390505 L -118.25640665341098,33.97011396866034 L -118.25640658513902,33.96955306224673 L -118.2564071124501,33.968647985649596 L -118.25640675132735,33.967991249922356 L -118.25640638122145,33.96571602577051 L -118.25640598865768,33.96289466698933 L -118.25831867078085,33.9628857776508 L -118.2620286158862,33.96286884610699 L -118.26608483368584,33.962853784667075 L -118.26905607975999,33.962838607739755 L -118.27021522897171,33.96283292514579 L -118.27130512615982,33.96282738783875 L -118.27267532825934,33.96282017637491 L -118.27388724001926,33.962813996077635 L -118.27388577756197,33.96236678648985 z\" /></g></svg>"
      ],
      "text/plain": [
       "{'rings': [[[-118.27388577756197, 33.96236678648985],\n",
       "   [-118.27553465323227, 33.96236577915944],\n",
       "   [-118.2759765506902, 33.962365112324534],\n",
       "   [-118.27717858008367, 33.96236441717709],\n",
       "   [-118.27813162971806, 33.96236359760347],\n",
       "   [-118.27829660532, 33.962390008732],\n",
       "   [-118.27913423401677, 33.962389447696765],\n",
       "   [-118.27988447280609, 33.96238908335914],\n",
       "   [-118.28081441507642, 33.96238142630823],\n",
       "   [-118.28081828591698, 33.96402772631845],\n",
       "   [-118.2808207796402, 33.96427983676135],\n",
       "   [-118.2808081376492, 33.96641082932309],\n",
       "   [-118.28081435578761, 33.96826527516328],\n",
       "   [-118.28082664294408, 33.96947086890055],\n",
       "   [-118.28081659259267, 33.970407911249424],\n",
       "   [-118.2808134215397, 33.97142943532958],\n",
       "   [-118.28081667164439, 33.97239873529942],\n",
       "   [-118.28080974563358, 33.97328390508586],\n",
       "   [-118.28080377273524, 33.97445347586298],\n",
       "   [-118.28080137603007, 33.975214295192636],\n",
       "   [-118.28080185213717, 33.97633988621281],\n",
       "   [-118.28080473213598, 33.97818231884551],\n",
       "   [-118.28081341255657, 33.97929552503631],\n",
       "   [-118.28080120265521, 33.980080755001296],\n",
       "   [-118.28080552175508, 33.98038507026042],\n",
       "   [-118.28079629785377, 33.9805853418021],\n",
       "   [-118.28078707395242, 33.98078561287202],\n",
       "   [-118.28077280870572, 33.980958074717435],\n",
       "   [-118.28075540564373, 33.98117828743051],\n",
       "   [-118.28073613857751, 33.981334617655484],\n",
       "   [-118.28063553714718, 33.98231995917949],\n",
       "   [-118.28056660582216, 33.9829129701763],\n",
       "   [-118.2805286466115, 33.983397712136174],\n",
       "   [-118.28051627052183, 33.98364195731611],\n",
       "   [-118.28050707356994, 33.983850472206036],\n",
       "   [-118.2805033734093, 33.98422281613155],\n",
       "   [-118.28049207080637, 33.98528008125503],\n",
       "   [-118.28050491940992, 33.98616142838719],\n",
       "   [-118.28048596226245, 33.98788781615781],\n",
       "   [-118.28047758098086, 33.98834020223406],\n",
       "   [-118.28048362304943, 33.98915905081625],\n",
       "   [-118.28010591471015, 33.989160959076216],\n",
       "   [-118.27995417308898, 33.98916199811705],\n",
       "   [-118.27799471479067, 33.98917305365964],\n",
       "   [-118.27660099210209, 33.989180721705075],\n",
       "   [-118.27623977952634, 33.98918292342832],\n",
       "   [-118.27355294366436, 33.98919763087868],\n",
       "   [-118.27296081465327, 33.98920000242317],\n",
       "   [-118.27017005628932, 33.989211778213054],\n",
       "   [-118.26934206382059, 33.989215003334216],\n",
       "   [-118.26759701541428, 33.989222320560174],\n",
       "   [-118.26700653481174, 33.989224658586544],\n",
       "   [-118.26608782777065, 33.98922874920148],\n",
       "   [-118.26446319493493, 33.98923919024942],\n",
       "   [-118.26299526691228, 33.989253046347784],\n",
       "   [-118.26265384871384, 33.989256194004945],\n",
       "   [-118.2623470668578, 33.98925892232198],\n",
       "   [-118.26117439889937, 33.989278296871035],\n",
       "   [-118.26049157238393, 33.98928732943744],\n",
       "   [-118.26002645167927, 33.98929142377351],\n",
       "   [-118.25932217339482, 33.989297404766155],\n",
       "   [-118.25887519506566, 33.98930111178972],\n",
       "   [-118.25809834458438, 33.98930758511489],\n",
       "   [-118.25644732912703, 33.98932140917441],\n",
       "   [-118.25644886434787, 33.98659140725524],\n",
       "   [-118.25645103198265, 33.984068182088684],\n",
       "   [-118.25643748359154, 33.97964415814358],\n",
       "   [-118.25642441759574, 33.977531427012494],\n",
       "   [-118.25640798651085, 33.974319560074015],\n",
       "   [-118.25640814461434, 33.97329392271393],\n",
       "   [-118.25642069228225, 33.97146760177653],\n",
       "   [-118.25640698488932, 33.97129932390505],\n",
       "   [-118.25640665341098, 33.97011396866034],\n",
       "   [-118.25640658513902, 33.96955306224673],\n",
       "   [-118.2564071124501, 33.968647985649596],\n",
       "   [-118.25640675132735, 33.967991249922356],\n",
       "   [-118.25640638122145, 33.96571602577051],\n",
       "   [-118.25640598865768, 33.96289466698933],\n",
       "   [-118.25831867078085, 33.9628857776508],\n",
       "   [-118.2620286158862, 33.96286884610699],\n",
       "   [-118.26608483368584, 33.962853784667075],\n",
       "   [-118.26905607975999, 33.962838607739755],\n",
       "   [-118.27021522897171, 33.96283292514579],\n",
       "   [-118.27130512615982, 33.96282738783875],\n",
       "   [-118.27267532825934, 33.96282017637491],\n",
       "   [-118.27388724001926, 33.962813996077635],\n",
       "   [-118.27388577756197, 33.96236678648985]]],\n",
       " 'spatialReference': {'wkid': 4326}}"
      ]
     },
     "execution_count": 28,
     "metadata": {},
     "output_type": "execute_result"
    }
   ],
   "source": [
    "if inp_shp_type == 'geojson':\n",
    "    with open(inp_shp) as f:\n",
    "        js = json.load(f)\n",
    "\n",
    "    arg_list = js['features']\n",
    "    geom =  arg_list[0]['geometry']\n",
    "    geom = Geometry(geom)\n",
    "    s = shape(geom)\n",
    "    \n",
    "elif inp_shp_type == 'shapefile':\n",
    "    inp_shape = load_shape(inp_shp)\n",
    "    geom = inp_shape.get('geometry')\n",
    "    geom = Geometry(geom)\n",
    "    s = shape(inp_shape.get('geometry'))\n",
    "\n",
    "# plot the user input geomtery    \n",
    "geom"
   ]
  },
  {
   "cell_type": "markdown",
   "metadata": {},
   "source": [
    "### Project the user input geomtery to epsg:32611 (meter coordinate system)"
   ]
  },
  {
   "cell_type": "code",
   "execution_count": 29,
   "metadata": {},
   "outputs": [
    {
     "name": "stdout",
     "output_type": "stream",
     "text": [
      "Total area of the given geometry in square miles=  2.548398969612342\n"
     ]
    }
   ],
   "source": [
    "proj = partial(pyproj.transform, pyproj.Proj(init=inp_crs),\n",
    "               pyproj.Proj(init='epsg:32611'))\n",
    "\n",
    "s_new = transform(proj, s)\n",
    "\n",
    "projected_area = transform(proj, s).area\n",
    "projected_area_sqm = projected_area*3.86102e-7 # convert area to square miles\n",
    "print('Total area of the given geometry in square miles= ',projected_area_sqm)"
   ]
  },
  {
   "cell_type": "code",
   "execution_count": 30,
   "metadata": {},
   "outputs": [],
   "source": [
    "# create the filter geometry\n",
    "aoi = arcgis.geometry.filters.intersects(geom)"
   ]
  },
  {
   "cell_type": "code",
   "execution_count": 31,
   "metadata": {
    "scrolled": true
   },
   "outputs": [],
   "source": [
    "# query a feature layer for features that meet filter criteria\n",
    "queried_layer = LA_layer.query(geometry_filter=aoi)"
   ]
  },
  {
   "cell_type": "markdown",
   "metadata": {},
   "source": [
    "### Save the queried layer as a pandas dataframe"
   ]
  },
  {
   "cell_type": "code",
   "execution_count": 32,
   "metadata": {},
   "outputs": [
    {
     "data": {
      "text/html": [
       "<div>\n",
       "<style scoped>\n",
       "    .dataframe tbody tr th:only-of-type {\n",
       "        vertical-align: middle;\n",
       "    }\n",
       "\n",
       "    .dataframe tbody tr th {\n",
       "        vertical-align: top;\n",
       "    }\n",
       "\n",
       "    .dataframe thead th {\n",
       "        text-align: right;\n",
       "    }\n",
       "</style>\n",
       "<table border=\"1\" class=\"dataframe\">\n",
       "  <thead>\n",
       "    <tr style=\"text-align: right;\">\n",
       "      <th></th>\n",
       "      <th>FID</th>\n",
       "      <th>roof_no</th>\n",
       "      <th>use_type</th>\n",
       "      <th>shape_area</th>\n",
       "      <th>albedo</th>\n",
       "      <th>Shape__Area</th>\n",
       "      <th>Shape__Length</th>\n",
       "      <th>SHAPE</th>\n",
       "    </tr>\n",
       "  </thead>\n",
       "  <tbody>\n",
       "    <tr>\n",
       "      <th>0</th>\n",
       "      <td>1522925</td>\n",
       "      <td>1546140</td>\n",
       "      <td>Commercial</td>\n",
       "      <td>321.489526</td>\n",
       "      <td>0.063286</td>\n",
       "      <td>468.875000</td>\n",
       "      <td>86.788101</td>\n",
       "      <td>{'rings': [[[-13166713.660457, 4025426.1618195...</td>\n",
       "    </tr>\n",
       "    <tr>\n",
       "      <th>1</th>\n",
       "      <td>1525085</td>\n",
       "      <td>1549308</td>\n",
       "      <td>Residential</td>\n",
       "      <td>32.560798</td>\n",
       "      <td>0.193935</td>\n",
       "      <td>47.476562</td>\n",
       "      <td>27.715825</td>\n",
       "      <td>{'rings': [[[-13166847.1430875, 4024299.218075...</td>\n",
       "    </tr>\n",
       "    <tr>\n",
       "      <th>2</th>\n",
       "      <td>1525357</td>\n",
       "      <td>1547754</td>\n",
       "      <td>Residential</td>\n",
       "      <td>143.554515</td>\n",
       "      <td>0.175064</td>\n",
       "      <td>209.367188</td>\n",
       "      <td>61.925614</td>\n",
       "      <td>{'rings': [[[-13165124.1593589, 4025347.934965...</td>\n",
       "    </tr>\n",
       "    <tr>\n",
       "      <th>3</th>\n",
       "      <td>1525369</td>\n",
       "      <td>1547755</td>\n",
       "      <td>Industrial</td>\n",
       "      <td>1518.711717</td>\n",
       "      <td>0.151536</td>\n",
       "      <td>2215.527344</td>\n",
       "      <td>213.090488</td>\n",
       "      <td>{'rings': [[[-13164895.2675852, 4026791.986497...</td>\n",
       "    </tr>\n",
       "    <tr>\n",
       "      <th>4</th>\n",
       "      <td>1525380</td>\n",
       "      <td>1547756</td>\n",
       "      <td>Residential</td>\n",
       "      <td>155.590149</td>\n",
       "      <td>0.112142</td>\n",
       "      <td>226.886719</td>\n",
       "      <td>67.406001</td>\n",
       "      <td>{'rings': [[[-13166492.4632543, 4024527.372949...</td>\n",
       "    </tr>\n",
       "    <tr>\n",
       "      <th>...</th>\n",
       "      <td>...</td>\n",
       "      <td>...</td>\n",
       "      <td>...</td>\n",
       "      <td>...</td>\n",
       "      <td>...</td>\n",
       "      <td>...</td>\n",
       "      <td>...</td>\n",
       "      <td>...</td>\n",
       "    </tr>\n",
       "    <tr>\n",
       "      <th>12468</th>\n",
       "      <td>2064775</td>\n",
       "      <td>2064745</td>\n",
       "      <td>Residential</td>\n",
       "      <td>298.679027</td>\n",
       "      <td>0.175775</td>\n",
       "      <td>435.582031</td>\n",
       "      <td>116.289024</td>\n",
       "      <td>{'rings': [[[-13164417.1729971, 4025161.043609...</td>\n",
       "    </tr>\n",
       "    <tr>\n",
       "      <th>12469</th>\n",
       "      <td>2064790</td>\n",
       "      <td>2064746</td>\n",
       "      <td>Residential</td>\n",
       "      <td>119.614121</td>\n",
       "      <td>0.069473</td>\n",
       "      <td>174.441406</td>\n",
       "      <td>58.131127</td>\n",
       "      <td>{'rings': [[[-13165934.4794471, 4025042.887766...</td>\n",
       "    </tr>\n",
       "    <tr>\n",
       "      <th>12470</th>\n",
       "      <td>2064796</td>\n",
       "      <td>2064747</td>\n",
       "      <td>Residential</td>\n",
       "      <td>133.301199</td>\n",
       "      <td>0.097137</td>\n",
       "      <td>194.382812</td>\n",
       "      <td>77.974733</td>\n",
       "      <td>{'rings': [[[-13166310.3418244, 4024437.349193...</td>\n",
       "    </tr>\n",
       "    <tr>\n",
       "      <th>12471</th>\n",
       "      <td>2064867</td>\n",
       "      <td>2064749</td>\n",
       "      <td>Residential</td>\n",
       "      <td>32.535660</td>\n",
       "      <td>0.138797</td>\n",
       "      <td>47.460938</td>\n",
       "      <td>27.877372</td>\n",
       "      <td>{'rings': [[[-13165651.5938107, 4026499.834281...</td>\n",
       "    </tr>\n",
       "    <tr>\n",
       "      <th>12472</th>\n",
       "      <td>2064889</td>\n",
       "      <td>2064750</td>\n",
       "      <td>Residential</td>\n",
       "      <td>12.974323</td>\n",
       "      <td>0.157229</td>\n",
       "      <td>18.917969</td>\n",
       "      <td>17.662543</td>\n",
       "      <td>{'rings': [[[-13166009.3633106, 4024687.698811...</td>\n",
       "    </tr>\n",
       "  </tbody>\n",
       "</table>\n",
       "<p>12473 rows × 8 columns</p>\n",
       "</div>"
      ],
      "text/plain": [
       "           FID  roof_no     use_type   shape_area    albedo  Shape__Area  \\\n",
       "0      1522925  1546140   Commercial   321.489526  0.063286   468.875000   \n",
       "1      1525085  1549308  Residential    32.560798  0.193935    47.476562   \n",
       "2      1525357  1547754  Residential   143.554515  0.175064   209.367188   \n",
       "3      1525369  1547755   Industrial  1518.711717  0.151536  2215.527344   \n",
       "4      1525380  1547756  Residential   155.590149  0.112142   226.886719   \n",
       "...        ...      ...          ...          ...       ...          ...   \n",
       "12468  2064775  2064745  Residential   298.679027  0.175775   435.582031   \n",
       "12469  2064790  2064746  Residential   119.614121  0.069473   174.441406   \n",
       "12470  2064796  2064747  Residential   133.301199  0.097137   194.382812   \n",
       "12471  2064867  2064749  Residential    32.535660  0.138797    47.460938   \n",
       "12472  2064889  2064750  Residential    12.974323  0.157229    18.917969   \n",
       "\n",
       "       Shape__Length                                              SHAPE  \n",
       "0          86.788101  {'rings': [[[-13166713.660457, 4025426.1618195...  \n",
       "1          27.715825  {'rings': [[[-13166847.1430875, 4024299.218075...  \n",
       "2          61.925614  {'rings': [[[-13165124.1593589, 4025347.934965...  \n",
       "3         213.090488  {'rings': [[[-13164895.2675852, 4026791.986497...  \n",
       "4          67.406001  {'rings': [[[-13166492.4632543, 4024527.372949...  \n",
       "...              ...                                                ...  \n",
       "12468     116.289024  {'rings': [[[-13164417.1729971, 4025161.043609...  \n",
       "12469      58.131127  {'rings': [[[-13165934.4794471, 4025042.887766...  \n",
       "12470      77.974733  {'rings': [[[-13166310.3418244, 4024437.349193...  \n",
       "12471      27.877372  {'rings': [[[-13165651.5938107, 4026499.834281...  \n",
       "12472      17.662543  {'rings': [[[-13166009.3633106, 4024687.698811...  \n",
       "\n",
       "[12473 rows x 8 columns]"
      ]
     },
     "execution_count": 32,
     "metadata": {},
     "output_type": "execute_result"
    }
   ],
   "source": [
    "df = queried_layer.sdf\n",
    "df"
   ]
  },
  {
   "cell_type": "code",
   "execution_count": 33,
   "metadata": {},
   "outputs": [],
   "source": [
    "# albedo column is saved as different name in name file. Fix the name here\n",
    "if query_year == '2009' or '2012':\n",
    "    df.rename(columns={'Scored_Lab': 'albedo','shp_area': 'shape_area'}, inplace=True)\n",
    "\n",
    "match_area = df['shape_area'].sum(axis=0)\n",
    "\n",
    "rfs_mu = round(df['albedo'].mean(axis=0),4)\n",
    "rfs_sigma = round(df['albedo'].std(axis=0),4)"
   ]
  },
  {
   "cell_type": "code",
   "execution_count": 34,
   "metadata": {},
   "outputs": [],
   "source": [
    "# functions for loading shapefile, percentage calculation and histogram\n",
    "def load_shape(place_shapefile):\n",
    "    c = fiona.open(place_shapefile)\n",
    "    pol = c.next()\n",
    "    shape = {}\n",
    "    shape['type'] = pol['type']\n",
    "    shape['properties'] = pol['properties']\n",
    "    shape['geometry'] = {}\n",
    "    shape['geometry']['type'] = 'Polygon'  # pol['geometry']['type']\n",
    "    shape['geometry']['coordinates'] = [[]]\n",
    "    # if MultiPolygon (e.g., city='kampala')\n",
    "    if (len(pol['geometry']['coordinates'])>1):\n",
    "        # identify largest single polygon\n",
    "#         print(\"MultiPolygon\", len(pol['geometry']['coordinates']))\n",
    "        p_argmax = 0 \n",
    "        pn_max = 0\n",
    "        for p in range(len(pol['geometry']['coordinates'])):\n",
    "            pn = len(pol['geometry']['coordinates'][p][0])\n",
    "            if pn>pn_max:\n",
    "                p_argmax = p\n",
    "                pn_max = pn\n",
    "#             print(p, pn, p_argmax, pn_max )\n",
    "        # make largest polygon the only polygon, move other polys to a backup variable \n",
    "        polygon = pol['geometry']['coordinates'][p_argmax]\n",
    "    else:\n",
    "#         print('simple polygon')\n",
    "        polygon = pol['geometry']['coordinates']\n",
    "       \n",
    "    xmin =  180\n",
    "    xmax = -180\n",
    "    ymin =  90\n",
    "    ymax = -90\n",
    "    for x,y in polygon[0]:\n",
    "        xmin = xmin if xmin < x else x\n",
    "        xmax = xmax if xmax > x else x\n",
    "        ymin = ymin if ymin < y else y\n",
    "        ymax = ymax if ymax > y else y\n",
    "        shape['geometry']['coordinates'][0].append([x,y])\n",
    "    shape['bbox'] = [xmin,ymin,xmax,ymax]\n",
    "    \n",
    "    return shape\n",
    "\n",
    "def percentage(part, whole):\n",
    "  return 100 * float(part)/float(whole)\n",
    "\n",
    "def plot_histogram(dataframe):\n",
    "    dataframe['ScoredLabels']=dataframe['albedo']\n",
    "    x = dataframe.ScoredLabels.dropna()\n",
    "    plt.figure(figsize=(9,9))\n",
    "    N, bins, patches = plt.hist(x,bins=[0, 0.05, 0.1, 0.15, 0.2, 0.25, 0.3, 0.35, 0.4, 0.45, 0.5, 0.55, 0.6, 0.65, 0.7, 0.75, \n",
    "                                    0.8, 0.85,0.9,0.95,1])\n",
    "\n",
    "    cmap = plt.get_cmap('jet')\n",
    "    low = cmap(0.5)\n",
    "    medium =cmap(0.2)\n",
    "    high = cmap(0.7)\n",
    "\n",
    "\n",
    "    for i in range(0,1):\n",
    "        patches[i].set_facecolor('#d7191c')\n",
    "    for i in range(1,2):\n",
    "        patches[i].set_facecolor('#e9603d')\n",
    "    for i in range(2,3):\n",
    "        patches[i].set_facecolor('#fca75d')\n",
    "    for i in range(3,4):\n",
    "        patches[i].set_facecolor('#fed189')\n",
    "    for i in range(4,5):\n",
    "        patches[i].set_facecolor('#fff8b6')\n",
    "    for i in range(5,6):\n",
    "        patches[i].set_facecolor('#eef8c8')\n",
    "    for i in range(6,7):\n",
    "        patches[i].set_facecolor('#d9eed3')\n",
    "    for i in range(7,8):\n",
    "        patches[i].set_facecolor('#c3e4dd')\n",
    "    for i in range(8,9):\n",
    "        patches[i].set_facecolor('#addae8')\n",
    "    for i in range(9,10):\n",
    "        patches[i].set_facecolor('#85b9d2')\n",
    "    for i in range(10,11):\n",
    "        patches[i].set_facecolor('#5a96b8')\n",
    "    for i in range(11,12):\n",
    "        patches[i].set_facecolor('#2f729d')\n",
    "    for i in range(12,18):\n",
    "        patches[i].set_facecolor('#054e83')\n",
    "\n",
    "    plt.grid()    \n",
    "    plt.xlabel(\"Predicted Albedo\", fontsize=16)  \n",
    "    plt.ylabel(\"Count of Roofs\", fontsize=16)\n",
    "    plt.axvline(x.mean(), color='#544f50', linestyle='dashed', linewidth=1)\n",
    "    plt.xticks(np.arange(0, 1.01, 0.05),fontsize=8)   \n",
    "\n",
    "    ax = plt.subplot(111)  \n",
    "\n",
    "    mu = round(dataframe.loc[:,\"albedo\"].mean(),4)\n",
    "    sigma = round(dataframe.loc[:,\"albedo\"].std(),4)\n",
    "    textstr = '\\n'.join((\n",
    "        r'$\\mu=%.2f$' % (mu, ),\n",
    "        r'$\\sigma=%.2f$' % (sigma, )))\n",
    "    plt.text(1, 1, textstr, verticalalignment='top', horizontalalignment='right',transform=ax.transAxes, style='italic',fontsize=8)\n",
    "\n",
    "    plt.show()\n"
   ]
  },
  {
   "cell_type": "markdown",
   "metadata": {},
   "source": [
    "### Query based on pre-set criteria"
   ]
  },
  {
   "cell_type": "code",
   "execution_count": 35,
   "metadata": {},
   "outputs": [],
   "source": [
    "# Threshold for different roof size\n",
    "sm_rf_thrs = 500       # threshold for small roof\n",
    "md_rf_lo_thrs = 500    # lower threshold for medium roof\n",
    "md_rf_up_thrs = 5000   # upper threshold for medium roof\n",
    "lg_rf_thrs = 5000      # threshold for large roof"
   ]
  },
  {
   "cell_type": "code",
   "execution_count": 36,
   "metadata": {
    "scrolled": true
   },
   "outputs": [],
   "source": [
    "# list of small, medium and large roof areas\n",
    "small_roofs = df.loc[(df['shape_area'] <= sm_rf_thrs)]\n",
    "s_rfs_ar = small_roofs['shape_area'].sum(axis=0)\n",
    "s_rfs_mu = round(small_roofs['albedo'].mean(axis=0),4)\n",
    "s_rfs_sigma = round(small_roofs['albedo'].std(axis=0),4)\n",
    "\n",
    "medium_roofs = df.loc[(df['shape_area'] > md_rf_lo_thrs) & (df['shape_area'] <= md_rf_up_thrs)]\n",
    "m_rfs_ar = medium_roofs['shape_area'].sum(axis=0)\n",
    "m_rfs_mu = round(medium_roofs['albedo'].mean(axis=0),4)\n",
    "m_rfs_sigma = round(medium_roofs['albedo'].std(axis=0),4)\n",
    "\n",
    "large_roofs = df.loc[(df['shape_area'] >= lg_rf_thrs)]\n",
    "l_rfs_ar = large_roofs['shape_area'].sum(axis=0)\n",
    "l_rfs_mu = round(large_roofs['albedo'].mean(axis=0),4)\n",
    "l_rfs_sigma = round(large_roofs['albedo'].std(axis=0),4)\n",
    "\n",
    "# find the count of small and large roofs \n",
    "cnt_small_roofs = len(small_roofs)\n",
    "cnt_medium_roofs = len(medium_roofs)\n",
    "cnt_large_roofs = len(large_roofs)"
   ]
  },
  {
   "cell_type": "markdown",
   "metadata": {},
   "source": [
    "### Summary Statistics based on pre-set criteria"
   ]
  },
  {
   "cell_type": "code",
   "execution_count": 37,
   "metadata": {
    "scrolled": false
   },
   "outputs": [
    {
     "name": "stdout",
     "output_type": "stream",
     "text": [
      "Total area of the given geometry =  6600325.74 square meters\n",
      "Total area of roofs within the given geometry =  2001027.85 square meters\n",
      "Total count of roofs within the given geometry =  12473\n",
      "Mean albedo of roofs within the given geometry =  0.1316\n",
      "Standard deviation for albedo of roofs within the given geometry =  0.075\n",
      "\n",
      "Number of small roofs (roofs with area less than 500 m2) =  12100\n",
      "Total area of small roofs =  1286149.96 square meters\n",
      "Percentage of small roofs on total area =  64.27 %\n",
      "Mean albedo of small roofs within the given geometry =  0.1291\n",
      "Standard deviation for albedo of small roofs within the given geometry =  0.0713\n",
      "\n",
      "Number of medium roofs (roofs with area between 500 m2 and 5000 m2) =  355\n",
      "Total area of medium roofs =  502489.36 square meters\n",
      "Percentage of medium roofs on total area =  25.11 %\n",
      "Mean albedo of medium roofs within the given geometry =  0.2104\n",
      "Standard deviation for albedo of medium roofs within the given geometry =  0.126\n",
      "\n",
      "Number of large roofs (roofs with area larger than 5000 m2) =  18\n",
      "Total area of large roofs =  212388.52 square meters\n",
      "Percentage of large roofs on total area =  10.61 %\n",
      "Mean albedo of large roofs within the given geometry =  0.2501\n",
      "Standard deviation for albedo of large roofs within the given geometry =  0.1633\n",
      "\n",
      "Histogram of albedos for all roofs in 2014 within the AOI\n"
     ]
    },
    {
     "data": {
      "image/png": "[encoded data removed]",
      "text/plain": [
       "<Figure size 648x648 with 1 Axes>"
      ]
     },
     "metadata": {
      "needs_background": "light"
     },
     "output_type": "display_data"
    },
    {
     "name": "stdout",
     "output_type": "stream",
     "text": [
      "Histogram of albedos for small roofs in 2014 within the AOI\n"
     ]
    },
    {
     "data": {
      "image/png": "[encoded data removed]",
      "text/plain": [
       "<Figure size 648x648 with 1 Axes>"
      ]
     },
     "metadata": {
      "needs_background": "light"
     },
     "output_type": "display_data"
    },
    {
     "name": "stdout",
     "output_type": "stream",
     "text": [
      "Histogram of albedos for medium roofs in 2014 within the AOI\n"
     ]
    },
    {
     "data": {
      "image/png": "[encoded data removed]",
      "text/plain": [
       "<Figure size 648x648 with 1 Axes>"
      ]
     },
     "metadata": {
      "needs_background": "light"
     },
     "output_type": "display_data"
    },
    {
     "name": "stdout",
     "output_type": "stream",
     "text": [
      "Histogram of albedos for large roofs in 2014 within the AOI\n"
     ]
    },
    {
     "data": {
      "image/png": "[encoded data removed]",
      "text/plain": [
       "<Figure size 648x648 with 1 Axes>"
      ]
     },
     "metadata": {
      "needs_background": "light"
     },
     "output_type": "display_data"
    }
   ],
   "source": [
    "print('Total area of the given geometry = ', round(projected_area,2), 'square meters')\n",
    "print('Total area of roofs within the given geometry = ', round((match_area),2), 'square meters') \n",
    "print('Total count of roofs within the given geometry = ', df.shape[0])\n",
    "print('Mean albedo of roofs within the given geometry = ', rfs_mu)\n",
    "print('Standard deviation for albedo of roofs within the given geometry = ', rfs_sigma)\n",
    "print()\n",
    "print('Number of small roofs (roofs with area less than', sm_rf_thrs, 'm2) = ', cnt_small_roofs)\n",
    "print('Total area of small roofs = ', round((s_rfs_ar),2), 'square meters')\n",
    "print('Percentage of small roofs on total area = ', round(percentage((s_rfs_ar),(match_area)),2), '%')\n",
    "print('Mean albedo of small roofs within the given geometry = ', s_rfs_mu)\n",
    "print('Standard deviation for albedo of small roofs within the given geometry = ', s_rfs_sigma)\n",
    "print()\n",
    "print('Number of medium roofs (roofs with area between',md_rf_lo_thrs,'m2 and',md_rf_up_thrs,'m2) = ', cnt_medium_roofs)\n",
    "print('Total area of medium roofs = ', round((m_rfs_ar),2), 'square meters')\n",
    "print('Percentage of medium roofs on total area = ', round(percentage((m_rfs_ar),(match_area)),2), '%')\n",
    "print('Mean albedo of medium roofs within the given geometry = ', m_rfs_mu)\n",
    "print('Standard deviation for albedo of medium roofs within the given geometry = ', m_rfs_sigma)\n",
    "print()\n",
    "print('Number of large roofs (roofs with area larger than',lg_rf_thrs,'m2) = ', cnt_large_roofs)\n",
    "print('Total area of large roofs = ', round((l_rfs_ar),2), 'square meters')\n",
    "print('Percentage of large roofs on total area = ', round(percentage((l_rfs_ar),(match_area)),2), '%')\n",
    "print('Mean albedo of large roofs within the given geometry = ', l_rfs_mu)\n",
    "print('Standard deviation for albedo of large roofs within the given geometry = ', l_rfs_sigma)\n",
    "print()\n",
    "\n",
    "print('Histogram of albedos for all roofs in ' +query_year+ ' within the AOI')\n",
    "plot_histogram(df)\n",
    "print('Histogram of albedos for small roofs in ' +query_year+ ' within the AOI')\n",
    "plot_histogram(small_roofs)\n",
    "print('Histogram of albedos for medium roofs in ' +query_year+ ' within the AOI')\n",
    "plot_histogram(medium_roofs)\n",
    "print('Histogram of albedos for large roofs in ' +query_year+ ' within the AOI')\n",
    "plot_histogram(large_roofs)"
   ]
  },
  {
   "cell_type": "markdown",
   "metadata": {},
   "source": [
    "--------------------------------------------"
   ]
  },
  {
   "cell_type": "markdown",
   "metadata": {},
   "source": [
    "### Query based on user defined criteria"
   ]
  },
  {
   "cell_type": "code",
   "execution_count": 38,
   "metadata": {},
   "outputs": [],
   "source": [
    "# Set the range for roof albedo between 0 and 1\n",
    "# lower bound\n",
    "lo_bnd_rf_alb = 0 \n",
    "# Upper bound\n",
    "up_bnd_rf_alb = 1"
   ]
  },
  {
   "cell_type": "code",
   "execution_count": 39,
   "metadata": {},
   "outputs": [],
   "source": [
    "# Set the range for building footprint area \n",
    "# lower bound\n",
    "lo_bnd_rf_ar = 0 \n",
    "# Upper bound\n",
    "up_bnd_rf_ar = 100000"
   ]
  },
  {
   "cell_type": "code",
   "execution_count": 40,
   "metadata": {},
   "outputs": [],
   "source": [
    "# available_use_types = ['Commercial','Government','Industrial','Institutional','Irrigated Farm','Miscellaneous',\n",
    "#                        'Recreational','Residential']\n",
    "\n",
    "# Set which building use type you want to query on from the above available use types\n",
    "set_use_type = ['Commercial','Residential']"
   ]
  },
  {
   "cell_type": "code",
   "execution_count": 41,
   "metadata": {
    "scrolled": true
   },
   "outputs": [],
   "source": [
    "us_def_roofs = df.loc[(df['albedo'] > lo_bnd_rf_alb) & (df['albedo'] <= up_bnd_rf_alb)]\n",
    "us_def_roofs = us_def_roofs.loc[(us_def_roofs['shape_area'] > lo_bnd_rf_ar) & (us_def_roofs['shape_area'] <= up_bnd_rf_ar)]\n",
    "us_def_roofs = us_def_roofs[us_def_roofs['use_type'].isin(set_use_type)]\n",
    "us_def_rfs_ar = us_def_roofs['shape_area'].sum(axis=0)\n",
    "us_def_rfs_mu = round(us_def_roofs['albedo'].mean(axis=0),4)\n",
    "us_def_rfs_sigma = round(us_def_roofs['albedo'].std(axis=0),4)\n",
    "\n",
    "# find the count of small and large roofs \n",
    "cnt_us_def_roofs = len(us_def_roofs)\n"
   ]
  },
  {
   "cell_type": "markdown",
   "metadata": {},
   "source": [
    "### Summary Statistics based on user defined criteria"
   ]
  },
  {
   "cell_type": "code",
   "execution_count": 42,
   "metadata": {
    "scrolled": false
   },
   "outputs": [
    {
     "name": "stdout",
     "output_type": "stream",
     "text": [
      "User Criteria: albedo range is between  0 and  1 ; Building footprint area is between  0 m2 and  100000 m2 ; Building use type are  ['Commercial', 'Residential']\n",
      "\n",
      "Number of roofs based on user criteria =  11629\n",
      "Total area of roofs =  502489.36 square meters\n",
      "Percentage of roofs on total area =  25.11 %\n",
      "Mean albedo of roofs within the given geometry =  0.2104\n",
      "Standard deviation for albedo of roofs within the given geometry =  0.126\n",
      "\n",
      "Histogram of albedos for all roofs in 2014 within the AOI and based on user filter\n"
     ]
    },
    {
     "data": {
      "image/png": "[encoded data removed]",
      "text/plain": [
       "<Figure size 648x648 with 1 Axes>"
      ]
     },
     "metadata": {
      "needs_background": "light"
     },
     "output_type": "display_data"
    }
   ],
   "source": [
    "print('User Criteria: albedo range is between ', lo_bnd_rf_alb, 'and ', up_bnd_rf_alb,\n",
    "                   '; Building footprint area is between ', lo_bnd_rf_ar, 'm2 and ', up_bnd_rf_ar,'m2',\n",
    "                '; Building use type are ', set_use_type)\n",
    "print()\n",
    "print('Number of roofs based on user criteria = ', cnt_us_def_roofs)\n",
    "print('Total area of roofs = ', round((m_rfs_ar),2), 'square meters')\n",
    "print('Percentage of roofs on total area = ', round(percentage((m_rfs_ar),(match_area)),2), '%')\n",
    "print('Mean albedo of roofs within the given geometry = ', m_rfs_mu)\n",
    "print('Standard deviation for albedo of roofs within the given geometry = ', m_rfs_sigma)\n",
    "print()\n",
    "\n",
    "print('Histogram of albedos for all roofs in ' +query_year+ ' within the AOI and based on user filter')\n",
    "plot_histogram(us_def_roofs)"
   ]
  },
  {
   "cell_type": "markdown",
   "metadata": {},
   "source": [
    "---------------------------------------"
   ]
  }
 ],
 "metadata": {
  "kernelspec": {
   "display_name": "Python 3.6 - AzureML",
   "language": "python",
   "name": "python3-azureml"
  },
  "language_info": {
   "codemirror_mode": {
    "name": "ipython",
    "version": 3
   },
   "file_extension": ".py",
   "mimetype": "text/x-python",
   "name": "python",
   "nbconvert_exporter": "python",
   "pygments_lexer": "ipython3",
   "version": "3.6.8"
  }
 },
 "nbformat": 4,
 "nbformat_minor": 2
}
