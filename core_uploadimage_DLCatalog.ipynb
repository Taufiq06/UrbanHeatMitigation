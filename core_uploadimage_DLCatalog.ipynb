{
 "cells": [
  {
   "cell_type": "markdown",
   "metadata": {},
   "source": [
    "## Core Workflow: Upload imageries to DL catalog\n",
    "Purpose: Upload NAIP imageries to descartes lab catalog\n",
    "<br>\n",
    "*Date: 2019-02-08*\n",
    "<br>\n",
    "*Author: Taufiq Rashid with major contributions from Brookie*"
   ]
  },
  {
   "cell_type": "code",
   "execution_count": null,
   "metadata": {},
   "outputs": [],
   "source": [
    "import os\n",
    "import sys\n",
    "import json\n",
    "\n",
    "import descarteslabs as dl\n",
    "\n",
    "from glob import glob\n",
    "from pprint import pprint\n",
    "\n",
    "ULU_REPO = os.environ[\"ULU_REPO\"]\n",
    "sys.path.append(ULU_REPO+'/utils')\n",
    "print sys.path"
   ]
  },
  {
   "cell_type": "code",
   "execution_count": null,
   "metadata": {},
   "outputs": [],
   "source": [
    "place = 'san_francisco'  # setting the study area\n",
    "\n",
    "data_root='/data/phase_iii/NAIP/'\n",
    "data_path=data_root+place+'/'"
   ]
  },
  {
   "cell_type": "code",
   "execution_count": null,
   "metadata": {},
   "outputs": [],
   "source": [
    "product_id = '762932f1db2b68d82f08b527ffe5a32d949dc8ec:usda:naip:rgbn:ca'\n",
    "\n",
    "selector=data_path+'*.tif'"
   ]
  },
  {
   "cell_type": "code",
   "execution_count": null,
   "metadata": {
    "scrolled": true
   },
   "outputs": [],
   "source": [
    "paths=glob(selector)\n",
    "\n",
    "print(len(paths))\n",
    "paths\n"
   ]
  },
  {
   "cell_type": "code",
   "execution_count": null,
   "metadata": {
    "scrolled": true
   },
   "outputs": [],
   "source": [
    "selector_1=data_path+'/*_0621*.tif'\n",
    "\n",
    "paths_1=glob(selector_1)\n",
    "\n",
    "print(len(paths_1))\n",
    "paths_1"
   ]
  },
  {
   "cell_type": "code",
   "execution_count": null,
   "metadata": {
    "scrolled": true
   },
   "outputs": [],
   "source": [
    "selector_2=data_path+'/*_0714*.tif'\n",
    "\n",
    "paths_2=glob(selector_2)\n",
    "\n",
    "print(len(paths_2))\n",
    "paths_2"
   ]
  },
  {
   "cell_type": "code",
   "execution_count": null,
   "metadata": {
    "scrolled": true
   },
   "outputs": [],
   "source": [
    "selector_3=data_path+'/*_0619*.tif'\n",
    "\n",
    "paths_3=glob(selector_3)\n",
    "\n",
    "print(len(paths_3))\n",
    "paths_3"
   ]
  },
  {
   "cell_type": "code",
   "execution_count": null,
   "metadata": {
    "scrolled": true
   },
   "outputs": [],
   "source": [
    "selector_4=data_path+'/*090622*.tif'\n",
    "\n",
    "paths_4=glob(selector_4)\n",
    "\n",
    "print(len(paths_4))\n",
    "paths_4"
   ]
  },
  {
   "cell_type": "code",
   "execution_count": null,
   "metadata": {
    "scrolled": true
   },
   "outputs": [],
   "source": [
    "selector_5=data_path+'/*_0706*.tif'\n",
    "\n",
    "paths_5=glob(selector_5)\n",
    "\n",
    "print(len(paths_5))\n",
    "paths_5"
   ]
  },
  {
   "cell_type": "code",
   "execution_count": null,
   "metadata": {
    "scrolled": true
   },
   "outputs": [],
   "source": [
    "selector_6=data_path+'/*_0608*.tif'\n",
    "\n",
    "paths_6=glob(selector_6)\n",
    "\n",
    "print(len(paths_6))\n",
    "paths_6"
   ]
  },
  {
   "cell_type": "code",
   "execution_count": null,
   "metadata": {
    "scrolled": true
   },
   "outputs": [],
   "source": [
    "selector_7=data_path+'/*_0703*.tif'\n",
    "\n",
    "paths_7=glob(selector_7)\n",
    "\n",
    "print(len(paths_7))\n",
    "paths_7"
   ]
  },
  {
   "cell_type": "code",
   "execution_count": null,
   "metadata": {
    "scrolled": true
   },
   "outputs": [],
   "source": [
    "tiffs = {}\n",
    "for tif in paths_1:\n",
    "    tiffs.update( {tif : '2009-06-21'} )\n",
    "\n",
    "for tif in paths_2:\n",
    "    tiffs.update( {tif : '2009-07-14'} )\n",
    "    \n",
    "for tif in paths_3:\n",
    "    tiffs.update( {tif : '2009-06-19'} )\n",
    "    \n",
    "for tif in paths_4:\n",
    "    tiffs.update( {tif : '2009-06-22'} )\n",
    "    \n",
    "for tif in paths_5:\n",
    "    tiffs.update( {tif : '2009-07-06'} )\n",
    "\n",
    "for tif in paths_6:\n",
    "    tiffs.update( {tif : '2009-06-08'} )\n",
    "\n",
    "for tif in paths_7:\n",
    "    tiffs.update( {tif : '2009-07-03'} )\n",
    "    \n",
    "print(len(tiffs))\n",
    "tiffs"
   ]
  },
  {
   "cell_type": "code",
   "execution_count": null,
   "metadata": {},
   "outputs": [],
   "source": [
    "# function for adding imageries to the descartes lab catalogue\n",
    "def add_images(prod_id, tiffs):\n",
    "    for path, date in tiffs.iteritems():\n",
    "        dl.Catalog().upload_image(files=path, product_id=prod_id,image_id=path,acquired=date)\n",
    "        print(prod_id)\n",
    "        print(path)\n",
    "        print(date) "
   ]
  },
  {
   "cell_type": "code",
   "execution_count": null,
   "metadata": {
    "scrolled": true
   },
   "outputs": [],
   "source": [
    "# add imageries to the descartes lab platform\n",
    "add_images(product_id,tiffs)"
   ]
  },
  {
   "cell_type": "markdown",
   "metadata": {},
   "source": [
    "--------------------------------"
   ]
  }
 ],
 "metadata": {
  "kernelspec": {
   "display_name": "Python 3",
   "language": "python",
   "name": "python3"
  },
  "language_info": {
   "codemirror_mode": {
    "name": "ipython",
    "version": 2
   },
   "file_extension": ".py",
   "mimetype": "text/x-python",
   "name": "python",
   "nbconvert_exporter": "python",
   "pygments_lexer": "ipython2",
   "version": "2.7.13"
  }
 },
 "nbformat": 4,
 "nbformat_minor": 2
}
